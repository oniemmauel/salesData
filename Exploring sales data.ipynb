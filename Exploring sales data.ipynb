{
  "cells": [
    {
      "cell_type": "markdown",
      "source": [
        "### Query data"
      ],
      "metadata": {
        "nteract": {
          "transient": {
            "deleting": false
          }
        }
      }
    },
    {
      "cell_type": "code",
      "source": [
        "%%pyspark\r\n",
        "df = spark.read.load('abfss://files@datalakei67cqey.dfs.core.windows.net/sales/orders/2019.csv', format='csv'\r\n",
        "## If header exists uncomment line below\r\n",
        "##, header=True\r\n",
        ")\r\n",
        "display(df.limit(10))"
      ],
      "outputs": [
        {
          "output_type": "display_data",
          "data": {
            "application/vnd.livy.statement-meta+json": {
              "spark_pool": "sparki67cqey",
              "session_id": "0",
              "statement_id": 2,
              "state": "finished",
              "livy_statement_state": "available",
              "queued_time": "2023-10-09T18:42:20.2518652Z",
              "session_start_time": "2023-10-09T18:42:20.3144702Z",
              "execution_start_time": "2023-10-09T18:45:18.767593Z",
              "execution_finish_time": "2023-10-09T18:45:38.3273096Z",
              "spark_jobs": null,
              "parent_msg_id": "08e1ed72-061a-4128-bd4b-ee20edeb45ca"
            },
            "text/plain": "StatementMeta(sparki67cqey, 0, 2, Finished, Available)"
          },
          "metadata": {}
        },
        {
          "output_type": "display_data",
          "data": {
            "application/vnd.synapse.widget-view+json": {
              "widget_id": "cfb0f45c-fd0e-444b-a494-1797cbb0c2ae",
              "widget_type": "Synapse.DataFrame"
            },
            "text/plain": "SynapseWidget(Synapse.DataFrame, cfb0f45c-fd0e-444b-a494-1797cbb0c2ae)"
          },
          "metadata": {}
        }
      ],
      "execution_count": 1,
      "metadata": {
        "microsoft": {
          "language": "python"
        },
        "collapsed": false
      }
    },
    {
      "cell_type": "code",
      "source": [
        "%%pyspark\r\n",
        "df = spark.read.load('abfss://files@datalakei67cqey.dfs.core.windows.net/sales/orders/*.csv', format='csv')\r\n",
        "display(df.limit(5))"
      ],
      "outputs": [
        {
          "output_type": "display_data",
          "data": {
            "application/vnd.livy.statement-meta+json": {
              "spark_pool": "sparki67cqey",
              "session_id": "0",
              "statement_id": 3,
              "state": "finished",
              "livy_statement_state": "available",
              "queued_time": "2023-10-09T18:59:21.9428557Z",
              "session_start_time": null,
              "execution_start_time": "2023-10-09T18:59:22.1780669Z",
              "execution_finish_time": "2023-10-09T18:59:35.3230929Z",
              "spark_jobs": null,
              "parent_msg_id": "15600296-c1cb-4e0a-9170-efbec9a0c3f2"
            },
            "text/plain": "StatementMeta(sparki67cqey, 0, 3, Finished, Available)"
          },
          "metadata": {}
        },
        {
          "output_type": "display_data",
          "data": {
            "application/vnd.synapse.widget-view+json": {
              "widget_id": "777ce0b8-a089-4e25-81c4-01c18c9bb5d7",
              "widget_type": "Synapse.DataFrame"
            },
            "text/plain": "SynapseWidget(Synapse.DataFrame, 777ce0b8-a089-4e25-81c4-01c18c9bb5d7)"
          },
          "metadata": {}
        }
      ],
      "execution_count": 2,
      "metadata": {
        "jupyter": {
          "source_hidden": false,
          "outputs_hidden": false
        },
        "nteract": {
          "transient": {
            "deleting": false
          }
        },
        "microsoft": {
          "language": "python"
        },
        "collapsed": false
      }
    },
    {
      "cell_type": "code",
      "source": [
        "%%pyspark\r\n",
        "from pyspark.sql.types import *\r\n",
        "from pyspark.sql.functions import *\r\n",
        "\r\n",
        "orderSchema = StructType([\r\n",
        "    StructField(\"SalesOrderNumber\", StringType()),\r\n",
        "    StructField(\"SalesOrderLineNumber\", IntegerType()),\r\n",
        "    StructField(\"OrderDate\", DateType()),\r\n",
        "    StructField(\"CustomerName\", StringType()),\r\n",
        "    StructField(\"Email\", StringType()),\r\n",
        "    StructField(\"Item\", StringType()),\r\n",
        "    StructField(\"Quantity\", IntegerType()),\r\n",
        "    StructField(\"UnitPrice\", FloatType()),\r\n",
        "    StructField(\"Tax\", FloatType())\r\n",
        "])\r\n",
        "\r\n",
        "df = spark.read.load(\r\n",
        "    'abfss://files@datalakei67cqey.dfs.core.windows.net/sales/orders/*.csv',\r\n",
        "    format='csv',\r\n",
        "    schema=orderSchema\r\n",
        ")\r\n",
        "display(df.limit(5))"
      ],
      "outputs": [
        {
          "output_type": "display_data",
          "data": {
            "application/vnd.livy.statement-meta+json": {
              "spark_pool": "sparki67cqey",
              "session_id": "0",
              "statement_id": 4,
              "state": "finished",
              "livy_statement_state": "available",
              "queued_time": "2023-10-09T19:06:06.6728995Z",
              "session_start_time": null,
              "execution_start_time": "2023-10-09T19:06:06.8430921Z",
              "execution_finish_time": "2023-10-09T19:06:08.0239534Z",
              "spark_jobs": null,
              "parent_msg_id": "54fac536-1a42-4854-bd33-8e39264252a8"
            },
            "text/plain": "StatementMeta(sparki67cqey, 0, 4, Finished, Available)"
          },
          "metadata": {}
        },
        {
          "output_type": "display_data",
          "data": {
            "application/vnd.synapse.widget-view+json": {
              "widget_id": "88a60216-0248-4efb-8f25-74acfe5d76c7",
              "widget_type": "Synapse.DataFrame"
            },
            "text/plain": "SynapseWidget(Synapse.DataFrame, 88a60216-0248-4efb-8f25-74acfe5d76c7)"
          },
          "metadata": {}
        }
      ],
      "execution_count": 3,
      "metadata": {
        "jupyter": {
          "source_hidden": false,
          "outputs_hidden": false
        },
        "nteract": {
          "transient": {
            "deleting": false
          }
        },
        "microsoft": {
          "language": "python"
        },
        "collapsed": false
      }
    },
    {
      "cell_type": "code",
      "source": [
        "df.printSchema()"
      ],
      "outputs": [
        {
          "output_type": "display_data",
          "data": {
            "application/vnd.livy.statement-meta+json": {
              "spark_pool": "sparki67cqey",
              "session_id": "0",
              "statement_id": 5,
              "state": "finished",
              "livy_statement_state": "available",
              "queued_time": "2023-10-09T19:06:44.9740246Z",
              "session_start_time": null,
              "execution_start_time": "2023-10-09T19:06:45.1384058Z",
              "execution_finish_time": "2023-10-09T19:06:45.4025122Z",
              "spark_jobs": null,
              "parent_msg_id": "41fdb356-1e9e-43ea-b210-d0f40e7dfa9d"
            },
            "text/plain": "StatementMeta(sparki67cqey, 0, 5, Finished, Available)"
          },
          "metadata": {}
        },
        {
          "output_type": "stream",
          "name": "stdout",
          "text": [
            "root\n |-- SalesOrderNumber: string (nullable = true)\n |-- SalesOrderLineNumber: integer (nullable = true)\n |-- OrderDate: date (nullable = true)\n |-- CustomerName: string (nullable = true)\n |-- Email: string (nullable = true)\n |-- Item: string (nullable = true)\n |-- Quantity: integer (nullable = true)\n |-- UnitPrice: float (nullable = true)\n |-- Tax: float (nullable = true)\n\n"
          ]
        }
      ],
      "execution_count": 4,
      "metadata": {
        "jupyter": {
          "source_hidden": false,
          "outputs_hidden": false
        },
        "nteract": {
          "transient": {
            "deleting": false
          }
        }
      }
    },
    {
      "cell_type": "markdown",
      "source": [
        "### Analyze data in a dataframe"
      ],
      "metadata": {
        "nteract": {
          "transient": {
            "deleting": false
          }
        }
      }
    },
    {
      "cell_type": "code",
      "source": [
        "customers = df['CustomerName', 'Email']\r\n",
        "print(\"Total count of customer is: \", customers.count())\r\n",
        "print(\"Distinct count of customer is: \", customers.distinct().count())\r\n",
        "display(customers.distinct())"
      ],
      "outputs": [
        {
          "output_type": "display_data",
          "data": {
            "application/vnd.livy.statement-meta+json": {
              "spark_pool": "sparki67cqey",
              "session_id": "0",
              "statement_id": 11,
              "state": "finished",
              "livy_statement_state": "available",
              "queued_time": "2023-10-09T19:11:43.6189581Z",
              "session_start_time": null,
              "execution_start_time": "2023-10-09T19:11:43.8175276Z",
              "execution_finish_time": "2023-10-09T19:11:46.986082Z",
              "spark_jobs": null,
              "parent_msg_id": "5a53fd39-b2d9-4f05-bdb1-6e3f07869c10"
            },
            "text/plain": "StatementMeta(sparki67cqey, 0, 11, Finished, Available)"
          },
          "metadata": {}
        },
        {
          "output_type": "stream",
          "name": "stdout",
          "text": [
            "Total count of customer is:  32718\nDistinct count of customer is:  12427\n"
          ]
        },
        {
          "output_type": "display_data",
          "data": {
            "application/vnd.synapse.widget-view+json": {
              "widget_id": "e13fadeb-e1a3-409c-aef3-6db10a799837",
              "widget_type": "Synapse.DataFrame"
            },
            "text/plain": "SynapseWidget(Synapse.DataFrame, e13fadeb-e1a3-409c-aef3-6db10a799837)"
          },
          "metadata": {}
        }
      ],
      "execution_count": 10,
      "metadata": {
        "jupyter": {
          "source_hidden": false,
          "outputs_hidden": false
        },
        "nteract": {
          "transient": {
            "deleting": false
          }
        },
        "collapsed": false
      }
    },
    {
      "cell_type": "code",
      "source": [
        " customers = df.select(\"CustomerName\", \"Email\").where(df['Item']=='Road-250 Red, 52')\r\n",
        " print(\"Number of customer who have purchased the Road-250 Red, 52 product = \", customers.count())\r\n",
        " print(\"Number of customer who have purchased the Road-250 Red, 52 product = \", customers.distinct().count())\r\n",
        " display(customers.distinct())"
      ],
      "outputs": [
        {
          "output_type": "display_data",
          "data": {
            "application/vnd.livy.statement-meta+json": {
              "spark_pool": "sparki67cqey",
              "session_id": "0",
              "statement_id": 13,
              "state": "finished",
              "livy_statement_state": "available",
              "queued_time": "2023-10-09T19:14:04.9394109Z",
              "session_start_time": null,
              "execution_start_time": "2023-10-09T19:14:05.1445298Z",
              "execution_finish_time": "2023-10-09T19:14:08.1437711Z",
              "spark_jobs": null,
              "parent_msg_id": "a42fac6e-ef9c-4190-b702-cb86ea8fc0dd"
            },
            "text/plain": "StatementMeta(sparki67cqey, 0, 13, Finished, Available)"
          },
          "metadata": {}
        },
        {
          "output_type": "stream",
          "name": "stdout",
          "text": [
            "Number of customer who have purchased the Road-250 Red, 52 product =  133\nNumber of customer who have purchased the Road-250 Red, 52 product =  133\n"
          ]
        },
        {
          "output_type": "display_data",
          "data": {
            "application/vnd.synapse.widget-view+json": {
              "widget_id": "2398a69c-9a74-41b0-824b-e40ae79bbc51",
              "widget_type": "Synapse.DataFrame"
            },
            "text/plain": "SynapseWidget(Synapse.DataFrame, 2398a69c-9a74-41b0-824b-e40ae79bbc51)"
          },
          "metadata": {}
        }
      ],
      "execution_count": 12,
      "metadata": {
        "jupyter": {
          "source_hidden": false,
          "outputs_hidden": false
        },
        "nteract": {
          "transient": {
            "deleting": false
          }
        },
        "collapsed": false
      }
    },
    {
      "cell_type": "markdown",
      "source": [
        "#### Aggregate and group data in dataframe"
      ],
      "metadata": {
        "nteract": {
          "transient": {
            "deleting": false
          }
        }
      }
    },
    {
      "cell_type": "code",
      "source": [
        "productSales = df.select(\"Item\", \"Quantity\").groupBy(\"Item\").sum()\r\n",
        "display(productSales)"
      ],
      "outputs": [
        {
          "output_type": "display_data",
          "data": {
            "application/vnd.livy.statement-meta+json": {
              "spark_pool": "sparki67cqey",
              "session_id": "0",
              "statement_id": 14,
              "state": "finished",
              "livy_statement_state": "available",
              "queued_time": "2023-10-09T19:14:43.0359007Z",
              "session_start_time": null,
              "execution_start_time": "2023-10-09T19:14:43.2732117Z",
              "execution_finish_time": "2023-10-09T19:14:45.2544623Z",
              "spark_jobs": null,
              "parent_msg_id": "1786a3cb-788f-4c36-bbbc-3cd70eb5aa6b"
            },
            "text/plain": "StatementMeta(sparki67cqey, 0, 14, Finished, Available)"
          },
          "metadata": {}
        },
        {
          "output_type": "display_data",
          "data": {
            "application/vnd.synapse.widget-view+json": {
              "widget_id": "ff5f761c-cbba-44e4-bfe8-f24510bae753",
              "widget_type": "Synapse.DataFrame"
            },
            "text/plain": "SynapseWidget(Synapse.DataFrame, ff5f761c-cbba-44e4-bfe8-f24510bae753)"
          },
          "metadata": {}
        }
      ],
      "execution_count": 13,
      "metadata": {
        "jupyter": {
          "source_hidden": false,
          "outputs_hidden": false
        },
        "nteract": {
          "transient": {
            "deleting": false
          }
        },
        "collapsed": false
      }
    },
    {
      "cell_type": "code",
      "source": [
        "yearlySales = df.select(year(\"OrderDate\").alias(\"Year\")).groupBy(\"Year\").count().orderBy(\"Year\")\r\n",
        "display(yearlySales)"
      ],
      "outputs": [
        {
          "output_type": "display_data",
          "data": {
            "application/vnd.livy.statement-meta+json": {
              "spark_pool": "sparki67cqey",
              "session_id": "0",
              "statement_id": 15,
              "state": "finished",
              "livy_statement_state": "available",
              "queued_time": "2023-10-09T19:16:29.9854486Z",
              "session_start_time": null,
              "execution_start_time": "2023-10-09T19:16:30.1989772Z",
              "execution_finish_time": "2023-10-09T19:16:32.1909484Z",
              "spark_jobs": null,
              "parent_msg_id": "6ceacaa0-2469-4a48-8ba6-685d9552d228"
            },
            "text/plain": "StatementMeta(sparki67cqey, 0, 15, Finished, Available)"
          },
          "metadata": {}
        },
        {
          "output_type": "display_data",
          "data": {
            "application/vnd.synapse.widget-view+json": {
              "widget_id": "850bc399-3539-430e-bf47-4eb853b64313",
              "widget_type": "Synapse.DataFrame"
            },
            "text/plain": "SynapseWidget(Synapse.DataFrame, 850bc399-3539-430e-bf47-4eb853b64313)"
          },
          "metadata": {}
        }
      ],
      "execution_count": 14,
      "metadata": {
        "jupyter": {
          "source_hidden": false,
          "outputs_hidden": false
        },
        "nteract": {
          "transient": {
            "deleting": false
          }
        },
        "collapsed": false
      }
    }
  ],
  "metadata": {
    "language_info": {
      "name": "python"
    },
    "kernelspec": {
      "name": "synapse_pyspark",
      "language": "Python",
      "display_name": "Synapse PySpark"
    },
    "kernel_info": {
      "name": "synapse_pyspark"
    },
    "save_output": true,
    "synapse_widget": {
      "version": "0.1",
      "state": {
        "cfb0f45c-fd0e-444b-a494-1797cbb0c2ae": {
          "type": "Synapse.DataFrame",
          "sync_state": {
            "table": {
              "rows": [
                {
                  "0": "SO43701",
                  "1": "1",
                  "2": "2019-07-01",
                  "3": "Christy Zhu",
                  "4": "christy12@adventure-works.com",
                  "5": "Mountain-100 Silver, 44",
                  "6": "1",
                  "7": "3399.99",
                  "8": "271.9992"
                },
                {
                  "0": "SO43704",
                  "1": "1",
                  "2": "2019-07-01",
                  "3": "Julio Ruiz",
                  "4": "julio1@adventure-works.com",
                  "5": "Mountain-100 Black, 48",
                  "6": "1",
                  "7": "3374.99",
                  "8": "269.9992"
                },
                {
                  "0": "SO43705",
                  "1": "1",
                  "2": "2019-07-01",
                  "3": "Curtis Lu",
                  "4": "curtis9@adventure-works.com",
                  "5": "Mountain-100 Silver, 38",
                  "6": "1",
                  "7": "3399.99",
                  "8": "271.9992"
                },
                {
                  "0": "SO43700",
                  "1": "1",
                  "2": "2019-07-01",
                  "3": "Ruben Prasad",
                  "4": "ruben10@adventure-works.com",
                  "5": "Road-650 Black, 62",
                  "6": "1",
                  "7": "699.0982",
                  "8": "55.9279"
                },
                {
                  "0": "SO43703",
                  "1": "1",
                  "2": "2019-07-01",
                  "3": "Albert Alvarez",
                  "4": "albert7@adventure-works.com",
                  "5": "Road-150 Red, 62",
                  "6": "1",
                  "7": "3578.27",
                  "8": "286.2616"
                },
                {
                  "0": "SO43697",
                  "1": "1",
                  "2": "2019-07-01",
                  "3": "Cole Watson",
                  "4": "cole1@adventure-works.com",
                  "5": "Road-150 Red, 62",
                  "6": "1",
                  "7": "3578.27",
                  "8": "286.2616"
                },
                {
                  "0": "SO43699",
                  "1": "1",
                  "2": "2019-07-01",
                  "3": "Sydney Wright",
                  "4": "sydney61@adventure-works.com",
                  "5": "Mountain-100 Silver, 44",
                  "6": "1",
                  "7": "3399.99",
                  "8": "271.9992"
                },
                {
                  "0": "SO43702",
                  "1": "1",
                  "2": "2019-07-01",
                  "3": "Colin Anand",
                  "4": "colin45@adventure-works.com",
                  "5": "Road-150 Red, 44",
                  "6": "1",
                  "7": "3578.27",
                  "8": "286.2616"
                },
                {
                  "0": "SO43698",
                  "1": "1",
                  "2": "2019-07-01",
                  "3": "Rachael Martinez",
                  "4": "rachael16@adventure-works.com",
                  "5": "Mountain-100 Silver, 44",
                  "6": "1",
                  "7": "3399.99",
                  "8": "271.9992"
                },
                {
                  "0": "SO43707",
                  "1": "1",
                  "2": "2019-07-02",
                  "3": "Emma Brown",
                  "4": "emma3@adventure-works.com",
                  "5": "Road-150 Red, 48",
                  "6": "1",
                  "7": "3578.27",
                  "8": "286.2616"
                }
              ],
              "schema": [
                {
                  "key": "0",
                  "name": "_c0",
                  "type": "string"
                },
                {
                  "key": "1",
                  "name": "_c1",
                  "type": "string"
                },
                {
                  "key": "2",
                  "name": "_c2",
                  "type": "string"
                },
                {
                  "key": "3",
                  "name": "_c3",
                  "type": "string"
                },
                {
                  "key": "4",
                  "name": "_c4",
                  "type": "string"
                },
                {
                  "key": "5",
                  "name": "_c5",
                  "type": "string"
                },
                {
                  "key": "6",
                  "name": "_c6",
                  "type": "string"
                },
                {
                  "key": "7",
                  "name": "_c7",
                  "type": "string"
                },
                {
                  "key": "8",
                  "name": "_c8",
                  "type": "string"
                }
              ],
              "truncated": false
            },
            "isSummary": false,
            "language": "scala"
          },
          "persist_state": {
            "view": {
              "type": "details",
              "tableOptions": {},
              "chartOptions": {
                "chartType": "bar",
                "aggregationType": "count",
                "categoryFieldKeys": [
                  "0"
                ],
                "seriesFieldKeys": [
                  "0"
                ],
                "isStacked": false
              }
            }
          }
        },
        "777ce0b8-a089-4e25-81c4-01c18c9bb5d7": {
          "type": "Synapse.DataFrame",
          "sync_state": {
            "table": {
              "rows": [
                {
                  "0": "SO49171",
                  "1": "1",
                  "2": "2021-01-01",
                  "3": "Mariah Foster",
                  "4": "mariah21@adventure-works.com",
                  "5": "Road-250 Black, 48",
                  "6": "1",
                  "7": "2181.5625",
                  "8": "174.525"
                },
                {
                  "0": "SO49172",
                  "1": "1",
                  "2": "2021-01-01",
                  "3": "Brian Howard",
                  "4": "brian23@adventure-works.com",
                  "5": "Road-250 Red, 44",
                  "6": "1",
                  "7": "2443.35",
                  "8": "195.468"
                },
                {
                  "0": "SO49173",
                  "1": "1",
                  "2": "2021-01-01",
                  "3": "Linda Alvarez",
                  "4": "linda19@adventure-works.com",
                  "5": "Mountain-200 Silver, 38",
                  "6": "1",
                  "7": "2071.4196",
                  "8": "165.7136"
                },
                {
                  "0": "SO49174",
                  "1": "1",
                  "2": "2021-01-01",
                  "3": "Gina Hernandez",
                  "4": "gina4@adventure-works.com",
                  "5": "Mountain-200 Silver, 42",
                  "6": "1",
                  "7": "2071.4196",
                  "8": "165.7136"
                },
                {
                  "0": "SO49178",
                  "1": "1",
                  "2": "2021-01-01",
                  "3": "Beth Ruiz",
                  "4": "beth4@adventure-works.com",
                  "5": "Road-550-W Yellow, 44",
                  "6": "1",
                  "7": "1000.4375",
                  "8": "80.035"
                }
              ],
              "schema": [
                {
                  "key": "0",
                  "name": "_c0",
                  "type": "string"
                },
                {
                  "key": "1",
                  "name": "_c1",
                  "type": "string"
                },
                {
                  "key": "2",
                  "name": "_c2",
                  "type": "string"
                },
                {
                  "key": "3",
                  "name": "_c3",
                  "type": "string"
                },
                {
                  "key": "4",
                  "name": "_c4",
                  "type": "string"
                },
                {
                  "key": "5",
                  "name": "_c5",
                  "type": "string"
                },
                {
                  "key": "6",
                  "name": "_c6",
                  "type": "string"
                },
                {
                  "key": "7",
                  "name": "_c7",
                  "type": "string"
                },
                {
                  "key": "8",
                  "name": "_c8",
                  "type": "string"
                }
              ],
              "truncated": false
            },
            "isSummary": false,
            "language": "scala"
          },
          "persist_state": {
            "view": {
              "type": "details",
              "tableOptions": {},
              "chartOptions": {
                "chartType": "bar",
                "aggregationType": "count",
                "categoryFieldKeys": [
                  "0"
                ],
                "seriesFieldKeys": [
                  "0"
                ],
                "isStacked": false
              }
            }
          }
        },
        "88a60216-0248-4efb-8f25-74acfe5d76c7": {
          "type": "Synapse.DataFrame",
          "sync_state": {
            "table": {
              "rows": [
                {
                  "0": "SO45347",
                  "1": "1",
                  "2": "2020-01-01",
                  "3": "Clarence Raji",
                  "4": "clarence35@adventure-works.com",
                  "5": "Road-650 Black, 52",
                  "6": "1",
                  "7": "699.0982",
                  "8": "55.9279"
                },
                {
                  "0": "SO45345",
                  "1": "1",
                  "2": "2020-01-01",
                  "3": "Bonnie Yuan",
                  "4": "bonnie12@adventure-works.com",
                  "5": "Road-150 Red, 52",
                  "6": "1",
                  "7": "3578.27",
                  "8": "286.2616"
                },
                {
                  "0": "SO45348",
                  "1": "1",
                  "2": "2020-01-01",
                  "3": "Leah Guo",
                  "4": "leah14@adventure-works.com",
                  "5": "Road-150 Red, 44",
                  "6": "1",
                  "7": "3578.27",
                  "8": "286.2616"
                },
                {
                  "0": "SO45349",
                  "1": "1",
                  "2": "2020-01-01",
                  "3": "Candice Sun",
                  "4": "candice19@adventure-works.com",
                  "5": "Road-150 Red, 48",
                  "6": "1",
                  "7": "3578.27",
                  "8": "286.2616"
                },
                {
                  "0": "SO45350",
                  "1": "1",
                  "2": "2020-01-01",
                  "3": "Ruben Garcia",
                  "4": "ruben16@adventure-works.com",
                  "5": "Road-150 Red, 44",
                  "6": "1",
                  "7": "3578.27",
                  "8": "286.2616"
                }
              ],
              "schema": [
                {
                  "key": "0",
                  "name": "SalesOrderNumber",
                  "type": "string"
                },
                {
                  "key": "1",
                  "name": "SalesOrderLineNumber",
                  "type": "int"
                },
                {
                  "key": "2",
                  "name": "OrderDate",
                  "type": "date"
                },
                {
                  "key": "3",
                  "name": "CustomerName",
                  "type": "string"
                },
                {
                  "key": "4",
                  "name": "Email",
                  "type": "string"
                },
                {
                  "key": "5",
                  "name": "Item",
                  "type": "string"
                },
                {
                  "key": "6",
                  "name": "Quantity",
                  "type": "int"
                },
                {
                  "key": "7",
                  "name": "UnitPrice",
                  "type": "float"
                },
                {
                  "key": "8",
                  "name": "Tax",
                  "type": "float"
                }
              ],
              "truncated": false
            },
            "isSummary": false,
            "language": "scala"
          },
          "persist_state": {
            "view": {
              "type": "details",
              "tableOptions": {},
              "chartOptions": {
                "chartType": "bar",
                "aggregationType": "sum",
                "categoryFieldKeys": [
                  "0"
                ],
                "seriesFieldKeys": [
                  "1"
                ],
                "isStacked": false
              }
            }
          }
        },
        "e13fadeb-e1a3-409c-aef3-6db10a799837": {
          "type": "Synapse.DataFrame",
          "sync_state": {
            "table": {
              "rows": [
                {
                  "0": "Bridget Andersen",
                  "1": "bridget15@adventure-works.com"
                },
                {
                  "0": "Mya Butler",
                  "1": "mya14@adventure-works.com"
                },
                {
                  "0": "Deanna Hernandez",
                  "1": "deanna29@adventure-works.com"
                },
                {
                  "0": "Ricky Navarro",
                  "1": "ricky10@adventure-works.com"
                },
                {
                  "0": "Omar Ye",
                  "1": "omar9@adventure-works.com"
                },
                {
                  "0": "Kellie Gutierrez",
                  "1": "kellie9@adventure-works.com"
                },
                {
                  "0": "Raymond Rana",
                  "1": "raymond13@adventure-works.com"
                },
                {
                  "0": "Derrick Moreno",
                  "1": "derrick6@adventure-works.com"
                },
                {
                  "0": "Megan Walker",
                  "1": "megan25@adventure-works.com"
                },
                {
                  "0": "Edward Jackson",
                  "1": "edward34@adventure-works.com"
                },
                {
                  "0": "Wayne She",
                  "1": "wayne1@adventure-works.com"
                },
                {
                  "0": "Willie Shan",
                  "1": "willie29@adventure-works.com"
                },
                {
                  "0": "Jake Guo",
                  "1": "jake15@adventure-works.com"
                },
                {
                  "0": "Sandra Lu",
                  "1": "sandra18@adventure-works.com"
                },
                {
                  "0": "Adam Kumar",
                  "1": "adam24@adventure-works.com"
                },
                {
                  "0": "Lawrence Ramos",
                  "1": "lawrence16@adventure-works.com"
                },
                {
                  "0": "Abigail Garcia",
                  "1": "abigail57@adventure-works.com"
                },
                {
                  "0": "Jan Hall",
                  "1": "jan18@adventure-works.com"
                },
                {
                  "0": "Logan Patterson",
                  "1": "logan13@adventure-works.com"
                },
                {
                  "0": "Connor Ross",
                  "1": "connor0@adventure-works.com"
                },
                {
                  "0": "Julia Garcia",
                  "1": "julia38@adventure-works.com"
                },
                {
                  "0": "Thomas Henderson",
                  "1": "thomas6@adventure-works.com"
                },
                {
                  "0": "David Foster",
                  "1": "david49@adventure-works.com"
                },
                {
                  "0": "Lori Hernandez",
                  "1": "lori6@adventure-works.com"
                },
                {
                  "0": "Bobby Raman",
                  "1": "bobby8@adventure-works.com"
                },
                {
                  "0": "Jasmine West",
                  "1": "jasmine37@adventure-works.com"
                },
                {
                  "0": "Alexandria Murphy",
                  "1": "alexandria37@adventure-works.com"
                },
                {
                  "0": "Isaiah Morgan",
                  "1": "isaiah12@adventure-works.com"
                },
                {
                  "0": "Jennifer Jackson",
                  "1": "jennifer40@adventure-works.com"
                },
                {
                  "0": "Clarence Li",
                  "1": "clarence39@adventure-works.com"
                },
                {
                  "0": "Alyssa Kelly",
                  "1": "alyssa45@adventure-works.com"
                },
                {
                  "0": "Kaylee Rogers",
                  "1": "kaylee16@adventure-works.com"
                },
                {
                  "0": "Brandy Lopez",
                  "1": "brandy13@adventure-works.com"
                },
                {
                  "0": "Blake Butler",
                  "1": "blake62@adventure-works.com"
                },
                {
                  "0": "Lindsey Xu",
                  "1": "lindsey5@adventure-works.com"
                },
                {
                  "0": "Jade Rogers",
                  "1": "jade15@adventure-works.com"
                },
                {
                  "0": "Diana Serrano",
                  "1": "diana15@adventure-works.com"
                },
                {
                  "0": "Christian Hayes",
                  "1": "christian9@adventure-works.com"
                },
                {
                  "0": "Rodney Dominguez",
                  "1": "rodney9@adventure-works.com"
                },
                {
                  "0": "Gilbert She",
                  "1": "gilbert21@adventure-works.com"
                },
                {
                  "0": "Gregory Becker",
                  "1": "gregory24@adventure-works.com"
                },
                {
                  "0": "Jonathon Gutierrez",
                  "1": "jonathon8@adventure-works.com"
                },
                {
                  "0": "Katherine Bryant",
                  "1": "katherine44@adventure-works.com"
                },
                {
                  "0": "Joseph Clark",
                  "1": "joseph26@adventure-works.com"
                },
                {
                  "0": "Robin Torres",
                  "1": "robin8@adventure-works.com"
                },
                {
                  "0": "Caleb Gonzales",
                  "1": "caleb14@adventure-works.com"
                },
                {
                  "0": "Christian Rodriguez",
                  "1": "christian39@adventure-works.com"
                },
                {
                  "0": "Makayla Sanders",
                  "1": "makayla3@adventure-works.com"
                },
                {
                  "0": "Lindsay Nath",
                  "1": "lindsay18@adventure-works.com"
                },
                {
                  "0": "Caitlin Brooks",
                  "1": "caitlin1@adventure-works.com"
                },
                {
                  "0": "David Coleman",
                  "1": "david38@adventure-works.com"
                },
                {
                  "0": "Melissa Perry",
                  "1": "melissa2@adventure-works.com"
                },
                {
                  "0": "Hailey Rogers",
                  "1": "hailey2@adventure-works.com"
                },
                {
                  "0": "Hailey James",
                  "1": "hailey17@adventure-works.com"
                },
                {
                  "0": "Ashley Alexander",
                  "1": "ashley46@adventure-works.com"
                },
                {
                  "0": "Grant Rai",
                  "1": "grant19@adventure-works.com"
                },
                {
                  "0": "Meghan Gutierrez",
                  "1": "meghan10@adventure-works.com"
                },
                {
                  "0": "Ian Alexander",
                  "1": "ian59@adventure-works.com"
                },
                {
                  "0": "Mya Griffin",
                  "1": "mya21@adventure-works.com"
                },
                {
                  "0": "Caleb Shan",
                  "1": "caleb27@adventure-works.com"
                },
                {
                  "0": "Mitchell Yuan",
                  "1": "mitchell6@adventure-works.com"
                },
                {
                  "0": "Ronnie Yang",
                  "1": "ronnie4@adventure-works.com"
                },
                {
                  "0": "Connor Adams",
                  "1": "connor44@adventure-works.com"
                },
                {
                  "0": "Micah Xu",
                  "1": "micah23@adventure-works.com"
                },
                {
                  "0": "Jessie Hernandez",
                  "1": "jessie1@adventure-works.com"
                },
                {
                  "0": "Jeremiah Griffin",
                  "1": "jeremiah36@adventure-works.com"
                },
                {
                  "0": "Brandi Diaz",
                  "1": "brandi3@adventure-works.com"
                },
                {
                  "0": "Briana Ashe",
                  "1": "briana4@adventure-works.com"
                },
                {
                  "0": "Eduardo Perez",
                  "1": "eduardo36@adventure-works.com"
                },
                {
                  "0": "Henry Garcia",
                  "1": "henry16@adventure-works.com"
                },
                {
                  "0": "Jade Sanchez",
                  "1": "jade19@adventure-works.com"
                },
                {
                  "0": "Logan Anderson",
                  "1": "logan61@adventure-works.com"
                },
                {
                  "0": "Miguel Coleman",
                  "1": "miguel52@adventure-works.com"
                },
                {
                  "0": "Brooke Sanders",
                  "1": "brooke3@adventure-works.com"
                },
                {
                  "0": "Darrell Chande",
                  "1": "darrell4@adventure-works.com"
                },
                {
                  "0": "Kenneth Lal",
                  "1": "kenneth8@adventure-works.com"
                },
                {
                  "0": "Jeremiah Mitchell",
                  "1": "jeremiah20@adventure-works.com"
                },
                {
                  "0": "Jessie Guo",
                  "1": "jessie22@adventure-works.com"
                },
                {
                  "0": "Devin Thomas",
                  "1": "devin9@adventure-works.com"
                },
                {
                  "0": "Jay Weber",
                  "1": "jay10@adventure-works.com"
                },
                {
                  "0": "Janet Turner",
                  "1": "janet32@adventure-works.com"
                },
                {
                  "0": "Jorge Zhao",
                  "1": "jorge12@adventure-works.com"
                },
                {
                  "0": "Bryant Srini",
                  "1": "bryant8@adventure-works.com"
                },
                {
                  "0": "Zachary Washington",
                  "1": "zachary12@adventure-works.com"
                },
                {
                  "0": "Arturo Liu",
                  "1": "arturo4@adventure-works.com"
                },
                {
                  "0": "Bradley Beck",
                  "1": "bradley22@adventure-works.com"
                },
                {
                  "0": "Kaitlyn Sanders",
                  "1": "kaitlyn67@adventure-works.com"
                },
                {
                  "0": "Katherine Jackson",
                  "1": "katherine82@adventure-works.com"
                },
                {
                  "0": "Michelle Kelly",
                  "1": "michelle4@adventure-works.com"
                },
                {
                  "0": "Alexandra Brooks",
                  "1": "alexandra21@adventure-works.com"
                },
                {
                  "0": "Stanley Rodriguez",
                  "1": "stanley21@adventure-works.com"
                },
                {
                  "0": "Margaret Zhang",
                  "1": "margaret7@adventure-works.com"
                },
                {
                  "0": "Sebastian Ward",
                  "1": "sebastian4@adventure-works.com"
                },
                {
                  "0": "Logan Harris",
                  "1": "logan65@adventure-works.com"
                },
                {
                  "0": "Omar Yuan",
                  "1": "omar26@adventure-works.com"
                },
                {
                  "0": "Kevin Butler",
                  "1": "kevin17@adventure-works.com"
                },
                {
                  "0": "Erick Kapoor",
                  "1": "erick1@adventure-works.com"
                },
                {
                  "0": "Carla Rana",
                  "1": "carla13@adventure-works.com"
                },
                {
                  "0": "Warren Luo",
                  "1": "warren14@adventure-works.com"
                },
                {
                  "0": "Alexia Hayes",
                  "1": "alexia19@adventure-works.com"
                },
                {
                  "0": "Adriana Garcia",
                  "1": "adriana16@adventure-works.com"
                },
                {
                  "0": "Melvin Ashe",
                  "1": "melvin21@adventure-works.com"
                },
                {
                  "0": "Mary Carter",
                  "1": "mary23@adventure-works.com"
                },
                {
                  "0": "Alfredo Suarez",
                  "1": "alfredo20@adventure-works.com"
                },
                {
                  "0": "Amber Campbell",
                  "1": "amber6@adventure-works.com"
                },
                {
                  "0": "Ethan Hayes",
                  "1": "ethan19@adventure-works.com"
                },
                {
                  "0": "Margaret Chen",
                  "1": "margaret9@adventure-works.com"
                },
                {
                  "0": "Xavier Thomas",
                  "1": "xavier8@adventure-works.com"
                },
                {
                  "0": "Jill Navarro",
                  "1": "jill17@adventure-works.com"
                },
                {
                  "0": "Nicole Watson",
                  "1": "nicole44@adventure-works.com"
                },
                {
                  "0": "Nathaniel Ward",
                  "1": "nathaniel13@adventure-works.com"
                },
                {
                  "0": "Jermaine Gonzalez",
                  "1": "jermaine17@adventure-works.com"
                },
                {
                  "0": "Cheryl Munoz",
                  "1": "cheryl9@adventure-works.com"
                },
                {
                  "0": "Abigail Morris",
                  "1": "abigail4@adventure-works.com"
                },
                {
                  "0": "Wayne Sharma",
                  "1": "wayne11@adventure-works.com"
                },
                {
                  "0": "James Simmons",
                  "1": "james31@adventure-works.com"
                },
                {
                  "0": "Teresa Ruiz",
                  "1": "teresa3@adventure-works.com"
                },
                {
                  "0": "Bailey Hernandez",
                  "1": "bailey38@adventure-works.com"
                },
                {
                  "0": "Molly Perez",
                  "1": "molly20@adventure-works.com"
                },
                {
                  "0": "Jesse Hall",
                  "1": "jesse46@adventure-works.com"
                },
                {
                  "0": "Kristy Torres",
                  "1": "kristy11@adventure-works.com"
                },
                {
                  "0": "Christian Wilson",
                  "1": "christian37@adventure-works.com"
                },
                {
                  "0": "Ian Torres",
                  "1": "ian70@adventure-works.com"
                },
                {
                  "0": "Sydney Cook",
                  "1": "sydney5@adventure-works.com"
                },
                {
                  "0": "Richard Flores",
                  "1": "richard67@adventure-works.com"
                },
                {
                  "0": "Kelvin Raji",
                  "1": "kelvin18@adventure-works.com"
                },
                {
                  "0": "Kayla Flores",
                  "1": "kayla36@adventure-works.com"
                },
                {
                  "0": "Rosa Liang",
                  "1": "rosa16@adventure-works.com"
                },
                {
                  "0": "Jessie Wang",
                  "1": "jessie7@adventure-works.com"
                },
                {
                  "0": "Autumn Ma",
                  "1": "autumn15@adventure-works.com"
                },
                {
                  "0": "Thomas Zhang",
                  "1": "thomas26@adventure-works.com"
                },
                {
                  "0": "Bob Garcia",
                  "1": "bob7@adventure-works.com"
                },
                {
                  "0": "Kayla Russell",
                  "1": "kayla44@adventure-works.com"
                },
                {
                  "0": "Karen Zhao",
                  "1": "karen20@adventure-works.com"
                },
                {
                  "0": "Ann Madan",
                  "1": "ann13@adventure-works.com"
                },
                {
                  "0": "Jay Alonso",
                  "1": "jay37@adventure-works.com"
                },
                {
                  "0": "Katrina Tang",
                  "1": "katrina3@adventure-works.com"
                },
                {
                  "0": "Autumn Wang",
                  "1": "autumn1@adventure-works.com"
                },
                {
                  "0": "Carly Jai",
                  "1": "carly11@adventure-works.com"
                },
                {
                  "0": "Theresa Munoz",
                  "1": "theresa4@adventure-works.com"
                },
                {
                  "0": "Troy Lopez",
                  "1": "troy18@adventure-works.com"
                },
                {
                  "0": "Jay Mehta",
                  "1": "jay20@adventure-works.com"
                },
                {
                  "0": "Danny Serrano",
                  "1": "danny17@adventure-works.com"
                },
                {
                  "0": "Trinity Sanchez",
                  "1": "trinity20@adventure-works.com"
                },
                {
                  "0": "Johnny Raji",
                  "1": "johnny22@adventure-works.com"
                },
                {
                  "0": "Randy Zeng",
                  "1": "randy24@adventure-works.com"
                },
                {
                  "0": "Noah Mitchell",
                  "1": "noah38@adventure-works.com"
                },
                {
                  "0": "Micheal Saunders",
                  "1": "micheal16@adventure-works.com"
                },
                {
                  "0": "Seth Kelly",
                  "1": "seth75@adventure-works.com"
                },
                {
                  "0": "Dominique Sai",
                  "1": "dominique5@adventure-works.com"
                },
                {
                  "0": "Roger Chen",
                  "1": "roger7@adventure-works.com"
                },
                {
                  "0": "Janet Moreno",
                  "1": "janet11@adventure-works.com"
                },
                {
                  "0": "Luke Foster",
                  "1": "luke5@adventure-works.com"
                },
                {
                  "0": "Natalie Moore",
                  "1": "natalie75@adventure-works.com"
                },
                {
                  "0": "Ashley Henderson",
                  "1": "ashley31@adventure-works.com"
                },
                {
                  "0": "Deanna Jim�nez",
                  "1": "deanna31@adventure-works.com"
                },
                {
                  "0": "Paige Travers",
                  "1": "paige27@adventure-works.com"
                },
                {
                  "0": "Miguel Barnes",
                  "1": "miguel49@adventure-works.com"
                },
                {
                  "0": "Joe Hernandez",
                  "1": "joe27@adventure-works.com"
                },
                {
                  "0": "Sara Cox",
                  "1": "sara11@adventure-works.com"
                },
                {
                  "0": "Antonio Hughes",
                  "1": "antonio11@adventure-works.com"
                },
                {
                  "0": "Savannah Roberts",
                  "1": "savannah26@adventure-works.com"
                },
                {
                  "0": "Natalie Long",
                  "1": "natalie32@adventure-works.com"
                },
                {
                  "0": "Edward Wood",
                  "1": "edward50@adventure-works.com"
                },
                {
                  "0": "Dalton Reed",
                  "1": "dalton92@adventure-works.com"
                },
                {
                  "0": "Olivia Long",
                  "1": "olivia55@adventure-works.com"
                },
                {
                  "0": "Clayton Zhu",
                  "1": "clayton13@adventure-works.com"
                },
                {
                  "0": "Jada Cooper",
                  "1": "jada9@adventure-works.com"
                },
                {
                  "0": "Vincent Li",
                  "1": "vincent3@adventure-works.com"
                },
                {
                  "0": "Isaac Carter",
                  "1": "isaac32@adventure-works.com"
                },
                {
                  "0": "Jos� Lopez",
                  "1": "jos�60@adventure-works.com"
                },
                {
                  "0": "Jack Jenkins",
                  "1": "jack7@adventure-works.com"
                },
                {
                  "0": "Victoria Jenkins",
                  "1": "victoria54@adventure-works.com"
                },
                {
                  "0": "Kellie Ramos",
                  "1": "kellie16@adventure-works.com"
                },
                {
                  "0": "Don Guo",
                  "1": "don6@adventure-works.com"
                },
                {
                  "0": "Donald Perez",
                  "1": "donald23@adventure-works.com"
                },
                {
                  "0": "Bruce Navarro",
                  "1": "bruce31@adventure-works.com"
                },
                {
                  "0": "Colleen Nath",
                  "1": "colleen41@adventure-works.com"
                },
                {
                  "0": "Ricky Serrano",
                  "1": "ricky17@adventure-works.com"
                },
                {
                  "0": "Aaron Flores",
                  "1": "aaron11@adventure-works.com"
                },
                {
                  "0": "Jesse Phillips",
                  "1": "jesse30@adventure-works.com"
                },
                {
                  "0": "Vanessa Price",
                  "1": "vanessa1@adventure-works.com"
                },
                {
                  "0": "Victoria Thomas",
                  "1": "victoria12@adventure-works.com"
                },
                {
                  "0": "Darren Rana",
                  "1": "darren14@adventure-works.com"
                },
                {
                  "0": "Lisa Zheng",
                  "1": "lisa22@adventure-works.com"
                },
                {
                  "0": "Kevin Simmons",
                  "1": "kevin18@adventure-works.com"
                },
                {
                  "0": "Bailey Carter",
                  "1": "bailey30@adventure-works.com"
                },
                {
                  "0": "Rebecca Young",
                  "1": "rebecca25@adventure-works.com"
                },
                {
                  "0": "Erica Zeng",
                  "1": "erica21@adventure-works.com"
                },
                {
                  "0": "Wesley Yang",
                  "1": "wesley5@adventure-works.com"
                },
                {
                  "0": "Krystal Ye",
                  "1": "krystal9@adventure-works.com"
                },
                {
                  "0": "Robert Li",
                  "1": "robert38@adventure-works.com"
                },
                {
                  "0": "Madison Patterson",
                  "1": "madison46@adventure-works.com"
                },
                {
                  "0": "Shawn Pal",
                  "1": "shawn14@adventure-works.com"
                },
                {
                  "0": "Kristopher Patel",
                  "1": "kristopher3@adventure-works.com"
                },
                {
                  "0": "Kevin Kumar",
                  "1": "kevin31@adventure-works.com"
                },
                {
                  "0": "Dwayne Ramos",
                  "1": "dwayne16@adventure-works.com"
                },
                {
                  "0": "Rafael Kumar",
                  "1": "rafael31@adventure-works.com"
                },
                {
                  "0": "Nathaniel Richardson",
                  "1": "nathaniel10@adventure-works.com"
                },
                {
                  "0": "Melvin Tang",
                  "1": "melvin4@adventure-works.com"
                },
                {
                  "0": "Michele Nath",
                  "1": "michele19@adventure-works.com"
                },
                {
                  "0": "Arianna Reed",
                  "1": "arianna42@adventure-works.com"
                },
                {
                  "0": "Kaylee Ward",
                  "1": "kaylee9@adventure-works.com"
                },
                {
                  "0": "Jennifer Lee",
                  "1": "jennifer49@adventure-works.com"
                },
                {
                  "0": "Nathan Jai",
                  "1": "nathan29@adventure-works.com"
                },
                {
                  "0": "Benjamin Perry",
                  "1": "benjamin8@adventure-works.com"
                },
                {
                  "0": "Carol Rai",
                  "1": "carol8@adventure-works.com"
                },
                {
                  "0": "Wayne Nara",
                  "1": "wayne19@adventure-works.com"
                },
                {
                  "0": "Frederick Garcia",
                  "1": "frederick13@adventure-works.com"
                },
                {
                  "0": "Ethan Smith",
                  "1": "ethan29@adventure-works.com"
                },
                {
                  "0": "Emma Bennett",
                  "1": "emma49@adventure-works.com"
                },
                {
                  "0": "Natalie Alexander",
                  "1": "natalie41@adventure-works.com"
                },
                {
                  "0": "Bryan Bailey",
                  "1": "bryan16@adventure-works.com"
                },
                {
                  "0": "John Walker",
                  "1": "john57@adventure-works.com"
                },
                {
                  "0": "Chase Cook",
                  "1": "chase22@adventure-works.com"
                },
                {
                  "0": "Savannah Reed",
                  "1": "savannah18@adventure-works.com"
                },
                {
                  "0": "Ethan Lee",
                  "1": "ethan50@adventure-works.com"
                },
                {
                  "0": "Jonathan Flores",
                  "1": "jonathan12@adventure-works.com"
                },
                {
                  "0": "Jordan King",
                  "1": "jordan48@adventure-works.com"
                },
                {
                  "0": "Natalie Lopez",
                  "1": "natalie64@adventure-works.com"
                },
                {
                  "0": "Dwayne Vazquez",
                  "1": "dwayne14@adventure-works.com"
                },
                {
                  "0": "Hunter Li",
                  "1": "hunter21@adventure-works.com"
                },
                {
                  "0": "Tommy Anand",
                  "1": "tommy19@adventure-works.com"
                },
                {
                  "0": "Colleen Andersen",
                  "1": "colleen36@adventure-works.com"
                },
                {
                  "0": "Leonard Yuan",
                  "1": "leonard8@adventure-works.com"
                },
                {
                  "0": "Victoria James",
                  "1": "victoria44@adventure-works.com"
                },
                {
                  "0": "Riley Richardson",
                  "1": "riley29@adventure-works.com"
                },
                {
                  "0": "Morgan Diaz",
                  "1": "morgan91@adventure-works.com"
                },
                {
                  "0": "Fernando Adams",
                  "1": "fernando31@adventure-works.com"
                },
                {
                  "0": "Kelvin Huang",
                  "1": "kelvin25@adventure-works.com"
                },
                {
                  "0": "Ebony Garcia",
                  "1": "ebony15@adventure-works.com"
                },
                {
                  "0": "Savannah Richardson",
                  "1": "savannah8@adventure-works.com"
                },
                {
                  "0": "Jennifer Adams",
                  "1": "jennifer18@adventure-works.com"
                },
                {
                  "0": "Bryan Rogers",
                  "1": "bryan20@adventure-works.com"
                },
                {
                  "0": "Zachary Griffin",
                  "1": "zachary19@adventure-works.com"
                },
                {
                  "0": "Emmanuel Patel",
                  "1": "emmanuel3@adventure-works.com"
                },
                {
                  "0": "Logan Edwards",
                  "1": "logan28@adventure-works.com"
                },
                {
                  "0": "Jose Thompson",
                  "1": "jose77@adventure-works.com"
                },
                {
                  "0": "Walter Jimenez",
                  "1": "walter18@adventure-works.com"
                },
                {
                  "0": "David Ross",
                  "1": "david36@adventure-works.com"
                },
                {
                  "0": "Oscar Hayes",
                  "1": "oscar8@adventure-works.com"
                },
                {
                  "0": "Calvin Deng",
                  "1": "calvin1@adventure-works.com"
                },
                {
                  "0": "Levi Sai",
                  "1": "levi5@adventure-works.com"
                },
                {
                  "0": "Nicole Howard",
                  "1": "nicole38@adventure-works.com"
                },
                {
                  "0": "Justin Bryant",
                  "1": "justin15@adventure-works.com"
                },
                {
                  "0": "Christian Johnson",
                  "1": "christian31@adventure-works.com"
                },
                {
                  "0": "Kari Malhotra",
                  "1": "kari6@adventure-works.com"
                },
                {
                  "0": "Casey Xie",
                  "1": "casey3@adventure-works.com"
                },
                {
                  "0": "Julio Sanz",
                  "1": "julio21@adventure-works.com"
                },
                {
                  "0": "Abigail Jenkins",
                  "1": "abigail32@adventure-works.com"
                },
                {
                  "0": "Cameron Lal",
                  "1": "cameron25@adventure-works.com"
                },
                {
                  "0": "Sarah Butler",
                  "1": "sarah39@adventure-works.com"
                },
                {
                  "0": "Haley Wood",
                  "1": "haley21@adventure-works.com"
                },
                {
                  "0": "Mario Raje",
                  "1": "mario12@adventure-works.com"
                },
                {
                  "0": "Adrian Cooper",
                  "1": "adrian10@adventure-works.com"
                },
                {
                  "0": "Erica Lin",
                  "1": "erica7@adventure-works.com"
                },
                {
                  "0": "Leah Zhang",
                  "1": "leah0@adventure-works.com"
                },
                {
                  "0": "Jose Garcia",
                  "1": "jose78@adventure-works.com"
                },
                {
                  "0": "Stefanie Raman",
                  "1": "stefanie9@adventure-works.com"
                },
                {
                  "0": "Micah Lu",
                  "1": "micah22@adventure-works.com"
                },
                {
                  "0": "Emma Moore",
                  "1": "emma7@adventure-works.com"
                },
                {
                  "0": "Kara Lal",
                  "1": "kara9@adventure-works.com"
                },
                {
                  "0": "Cameron Bryant",
                  "1": "cameron13@adventure-works.com"
                },
                {
                  "0": "Joe Belson",
                  "1": "joe18@adventure-works.com"
                },
                {
                  "0": "Margaret Ma",
                  "1": "margaret22@adventure-works.com"
                },
                {
                  "0": "Teresa Blanco",
                  "1": "teresa16@adventure-works.com"
                },
                {
                  "0": "Kevin Coleman",
                  "1": "kevin9@adventure-works.com"
                },
                {
                  "0": "Veronica Chandra",
                  "1": "veronica2@adventure-works.com"
                },
                {
                  "0": "Connor Hill",
                  "1": "connor43@adventure-works.com"
                },
                {
                  "0": "Abigail Barnes",
                  "1": "abigail28@adventure-works.com"
                },
                {
                  "0": "Daniel Davis",
                  "1": "daniel23@adventure-works.com"
                },
                {
                  "0": "Bailey Parker",
                  "1": "bailey28@adventure-works.com"
                },
                {
                  "0": "Kathleen Gutierrez",
                  "1": "kathleen13@adventure-works.com"
                },
                {
                  "0": "Roger Andersen",
                  "1": "roger40@adventure-works.com"
                },
                {
                  "0": "Lauren Russell",
                  "1": "lauren66@adventure-works.com"
                },
                {
                  "0": "Isabella Russell",
                  "1": "isabella30@adventure-works.com"
                },
                {
                  "0": "Ian Walker",
                  "1": "ian21@adventure-works.com"
                },
                {
                  "0": "Cesar Martinez",
                  "1": "cesar17@adventure-works.com"
                },
                {
                  "0": "Kaitlyn Scott",
                  "1": "kaitlyn11@adventure-works.com"
                },
                {
                  "0": "Louis Rai",
                  "1": "louis33@adventure-works.com"
                },
                {
                  "0": "Kelli Deng",
                  "1": "kelli24@adventure-works.com"
                },
                {
                  "0": "Bailey Phillips",
                  "1": "bailey27@adventure-works.com"
                },
                {
                  "0": "Abby Martinez",
                  "1": "abby15@adventure-works.com"
                },
                {
                  "0": "Christian Alexander",
                  "1": "christian6@adventure-works.com"
                },
                {
                  "0": "Samantha Walker",
                  "1": "samantha24@adventure-works.com"
                },
                {
                  "0": "Jan King",
                  "1": "jan16@adventure-works.com"
                },
                {
                  "0": "Randall Suarez",
                  "1": "randall21@adventure-works.com"
                },
                {
                  "0": "Angel Kelly",
                  "1": "angel1@adventure-works.com"
                },
                {
                  "0": "Allison Phillips",
                  "1": "allison28@adventure-works.com"
                },
                {
                  "0": "Xavier Davis",
                  "1": "xavier5@adventure-works.com"
                },
                {
                  "0": "Kristi Madan",
                  "1": "kristi24@adventure-works.com"
                },
                {
                  "0": "Patrick James",
                  "1": "patrick5@adventure-works.com"
                },
                {
                  "0": "Stacey Wu",
                  "1": "stacey7@adventure-works.com"
                },
                {
                  "0": "Daniel Weisman",
                  "1": "daniel4@adventure-works.com"
                },
                {
                  "0": "Michele Navarro",
                  "1": "michele43@adventure-works.com"
                },
                {
                  "0": "Blake Flores",
                  "1": "blake60@adventure-works.com"
                },
                {
                  "0": "Spencer Coleman",
                  "1": "spencer7@adventure-works.com"
                },
                {
                  "0": "Noah Carter",
                  "1": "noah37@adventure-works.com"
                },
                {
                  "0": "Xavier Perez",
                  "1": "xavier35@adventure-works.com"
                },
                {
                  "0": "Morgan Collins",
                  "1": "morgan2@adventure-works.com"
                },
                {
                  "0": "Robert White",
                  "1": "robert71@adventure-works.com"
                },
                {
                  "0": "Jamie Cai",
                  "1": "jamie25@adventure-works.com"
                },
                {
                  "0": "Ian Ward",
                  "1": "ian69@adventure-works.com"
                },
                {
                  "0": "Reginald Travers",
                  "1": "reginald19@adventure-works.com"
                },
                {
                  "0": "Joseph Davis",
                  "1": "joseph11@adventure-works.com"
                },
                {
                  "0": "Jack Parker",
                  "1": "jack34@adventure-works.com"
                },
                {
                  "0": "Jamie Suarez",
                  "1": "jamie41@adventure-works.com"
                },
                {
                  "0": "Lauren Diaz",
                  "1": "lauren68@adventure-works.com"
                },
                {
                  "0": "Ryan Robinson",
                  "1": "ryan54@adventure-works.com"
                },
                {
                  "0": "Hannah Robinson",
                  "1": "hannah16@adventure-works.com"
                },
                {
                  "0": "Brittany Gonzales",
                  "1": "brittany15@adventure-works.com"
                },
                {
                  "0": "Wyatt Martinez",
                  "1": "wyatt18@adventure-works.com"
                },
                {
                  "0": "Gabrielle Howard",
                  "1": "gabrielle11@adventure-works.com"
                },
                {
                  "0": "Lacey Liu",
                  "1": "lacey16@adventure-works.com"
                },
                {
                  "0": "Derek Chande",
                  "1": "derek13@adventure-works.com"
                },
                {
                  "0": "Ricardo Andersen",
                  "1": "ricardo13@adventure-works.com"
                },
                {
                  "0": "Suzanne Cai",
                  "1": "suzanne22@adventure-works.com"
                },
                {
                  "0": "Kaitlyn Gonzales",
                  "1": "kaitlyn84@adventure-works.com"
                },
                {
                  "0": "Roger Goel",
                  "1": "roger47@adventure-works.com"
                },
                {
                  "0": "Mason Evans",
                  "1": "mason21@adventure-works.com"
                },
                {
                  "0": "Nelson Suarez",
                  "1": "nelson18@adventure-works.com"
                },
                {
                  "0": "Tyler Jones",
                  "1": "tyler8@adventure-works.com"
                },
                {
                  "0": "Jocelyn Powell",
                  "1": "jocelyn9@adventure-works.com"
                },
                {
                  "0": "Olivia Blue",
                  "1": "olivia49@adventure-works.com"
                },
                {
                  "0": "Zoe Peterson",
                  "1": "zoe4@adventure-works.com"
                },
                {
                  "0": "Brianna Morgan",
                  "1": "brianna30@adventure-works.com"
                },
                {
                  "0": "Hunter Robinson",
                  "1": "hunter50@adventure-works.com"
                },
                {
                  "0": "Lindsay Raji",
                  "1": "lindsay21@adventure-works.com"
                },
                {
                  "0": "Candice Liu",
                  "1": "candice11@adventure-works.com"
                },
                {
                  "0": "Johnny Chavez",
                  "1": "johnny16@adventure-works.com"
                },
                {
                  "0": "Andy Alvarez",
                  "1": "andy9@adventure-works.com"
                },
                {
                  "0": "Destiny Johnson",
                  "1": "destiny1@adventure-works.com"
                },
                {
                  "0": "Wyatt Garcia",
                  "1": "wyatt17@adventure-works.com"
                },
                {
                  "0": "Donna Rai",
                  "1": "donna15@adventure-works.com"
                },
                {
                  "0": "Edwin Kumar",
                  "1": "edwin30@adventure-works.com"
                },
                {
                  "0": "Deb Moreno",
                  "1": "deb3@adventure-works.com"
                },
                {
                  "0": "Lacey Yuan",
                  "1": "lacey41@adventure-works.com"
                },
                {
                  "0": "Wyatt Flores",
                  "1": "wyatt62@adventure-works.com"
                },
                {
                  "0": "Dale Rai",
                  "1": "dale15@adventure-works.com"
                },
                {
                  "0": "Juan Suarez",
                  "1": "juan6@adventure-works.com"
                },
                {
                  "0": "Adriana Subram",
                  "1": "adriana14@adventure-works.com"
                },
                {
                  "0": "Jackson Sharma",
                  "1": "jackson3@adventure-works.com"
                },
                {
                  "0": "Cedric Liu",
                  "1": "cedric4@adventure-works.com"
                },
                {
                  "0": "Jordyn Hughes",
                  "1": "jordyn11@adventure-works.com"
                },
                {
                  "0": "Alyssa Sanders",
                  "1": "alyssa46@adventure-works.com"
                },
                {
                  "0": "Mario Goel",
                  "1": "mario18@adventure-works.com"
                },
                {
                  "0": "Alejandro Tang",
                  "1": "alejandro30@adventure-works.com"
                },
                {
                  "0": "Marshall Ye",
                  "1": "marshall8@adventure-works.com"
                },
                {
                  "0": "Erick Prasad",
                  "1": "erick9@adventure-works.com"
                },
                {
                  "0": "Wyatt Hayes",
                  "1": "wyatt51@adventure-works.com"
                },
                {
                  "0": "Mindy Nath",
                  "1": "mindy23@adventure-works.com"
                },
                {
                  "0": "Colleen Chen",
                  "1": "colleen2@adventure-works.com"
                },
                {
                  "0": "Louis Shan",
                  "1": "louis27@adventure-works.com"
                },
                {
                  "0": "Taylor Patterson",
                  "1": "taylor35@adventure-works.com"
                },
                {
                  "0": "Devon Deng",
                  "1": "devon0@adventure-works.com"
                },
                {
                  "0": "Alisha Yang",
                  "1": "alisha5@adventure-works.com"
                },
                {
                  "0": "Julio Hernandez",
                  "1": "julio3@adventure-works.com"
                },
                {
                  "0": "Jade Torres",
                  "1": "jade3@adventure-works.com"
                },
                {
                  "0": "Arturo Xu",
                  "1": "arturo13@adventure-works.com"
                },
                {
                  "0": "Natasha Serrano",
                  "1": "natasha16@adventure-works.com"
                },
                {
                  "0": "Brandon Gonzales",
                  "1": "brandon14@adventure-works.com"
                },
                {
                  "0": "Ivan Suri",
                  "1": "ivan0@adventure-works.com"
                },
                {
                  "0": "Steve Wagner",
                  "1": "steve5@adventure-works.com"
                },
                {
                  "0": "Nicolas Anand",
                  "1": "nicolas20@adventure-works.com"
                },
                {
                  "0": "Dwayne Hernandez",
                  "1": "dwayne3@adventure-works.com"
                },
                {
                  "0": "Jordyn Coleman",
                  "1": "jordyn5@adventure-works.com"
                },
                {
                  "0": "Diane Romero",
                  "1": "diane14@adventure-works.com"
                },
                {
                  "0": "Vincent Sun",
                  "1": "vincent12@adventure-works.com"
                },
                {
                  "0": "Colleen Nara",
                  "1": "colleen39@adventure-works.com"
                },
                {
                  "0": "Barbara Shen",
                  "1": "barbara33@adventure-works.com"
                },
                {
                  "0": "Faith Hayes",
                  "1": "faith22@adventure-works.com"
                },
                {
                  "0": "Pedro Suri",
                  "1": "pedro0@adventure-works.com"
                },
                {
                  "0": "Rachel Perry",
                  "1": "rachel55@adventure-works.com"
                },
                {
                  "0": "Arthur Chandra",
                  "1": "arthur4@adventure-works.com"
                },
                {
                  "0": "Jennifer Patterson",
                  "1": "jennifer84@adventure-works.com"
                },
                {
                  "0": "Jacqueline Howard",
                  "1": "jacqueline35@adventure-works.com"
                },
                {
                  "0": "Thomas Thomas",
                  "1": "thomas72@adventure-works.com"
                },
                {
                  "0": "Brenda Garcia",
                  "1": "brenda18@adventure-works.com"
                },
                {
                  "0": "Daniel Garcia",
                  "1": "daniel8@adventure-works.com"
                },
                {
                  "0": "Erica Gao",
                  "1": "erica15@adventure-works.com"
                },
                {
                  "0": "Cassandra Sanchez",
                  "1": "cassandra21@adventure-works.com"
                },
                {
                  "0": "Steve Liang",
                  "1": "steve19@adventure-works.com"
                },
                {
                  "0": "Emily Robinson",
                  "1": "emily19@adventure-works.com"
                },
                {
                  "0": "Drew Pal",
                  "1": "drew13@adventure-works.com"
                },
                {
                  "0": "Kristy Jimenez",
                  "1": "kristy6@adventure-works.com"
                },
                {
                  "0": "Eric Collins",
                  "1": "eric44@adventure-works.com"
                },
                {
                  "0": "Jesse Kelly",
                  "1": "jesse2@adventure-works.com"
                },
                {
                  "0": "Wyatt Nelson",
                  "1": "wyatt38@adventure-works.com"
                },
                {
                  "0": "Gerald Rana",
                  "1": "gerald41@adventure-works.com"
                },
                {
                  "0": "Jade James",
                  "1": "jade5@adventure-works.com"
                },
                {
                  "0": "Alexandria Ross",
                  "1": "alexandria4@adventure-works.com"
                },
                {
                  "0": "Dylan Foster",
                  "1": "dylan15@adventure-works.com"
                },
                {
                  "0": "Julio Ortega",
                  "1": "julio23@adventure-works.com"
                },
                {
                  "0": "Max Hernandez",
                  "1": "max4@adventure-works.com"
                },
                {
                  "0": "Xavier James",
                  "1": "xavier65@adventure-works.com"
                },
                {
                  "0": "Benjamin Hayes",
                  "1": "benjamin24@adventure-works.com"
                },
                {
                  "0": "Ronnie Gao",
                  "1": "ronnie13@adventure-works.com"
                },
                {
                  "0": "Alyssa Stewart",
                  "1": "alyssa24@adventure-works.com"
                },
                {
                  "0": "Matthew Jones",
                  "1": "matthew9@adventure-works.com"
                },
                {
                  "0": "Austin Lal",
                  "1": "austin26@adventure-works.com"
                },
                {
                  "0": "Richard Cook",
                  "1": "richard94@adventure-works.com"
                },
                {
                  "0": "Shane Rana",
                  "1": "shane14@adventure-works.com"
                },
                {
                  "0": "Jordan Edwards",
                  "1": "jordan30@adventure-works.com"
                },
                {
                  "0": "Madison Bennett",
                  "1": "madison36@adventure-works.com"
                },
                {
                  "0": "Gabriella Cox",
                  "1": "gabriella8@adventure-works.com"
                },
                {
                  "0": "Cristina Tang",
                  "1": "cristina4@adventure-works.com"
                },
                {
                  "0": "Aaron McDonald",
                  "1": "aaron53@adventure-works.com"
                },
                {
                  "0": "Arianna Hayes",
                  "1": "arianna20@adventure-works.com"
                },
                {
                  "0": "Edwin Deng",
                  "1": "edwin23@adventure-works.com"
                },
                {
                  "0": "Misty Jai",
                  "1": "misty13@adventure-works.com"
                },
                {
                  "0": "Meredith Suri",
                  "1": "meredith0@adventure-works.com"
                },
                {
                  "0": "Mario She",
                  "1": "mario0@adventure-works.com"
                },
                {
                  "0": "Zoe Rivera",
                  "1": "zoe15@adventure-works.com"
                },
                {
                  "0": "Gilbert Luo",
                  "1": "gilbert27@adventure-works.com"
                },
                {
                  "0": "Dalton Moore",
                  "1": "dalton7@adventure-works.com"
                },
                {
                  "0": "Jonathan Carter",
                  "1": "jonathan39@adventure-works.com"
                },
                {
                  "0": "Marshall Sun",
                  "1": "marshall12@adventure-works.com"
                },
                {
                  "0": "Chelsea Suri",
                  "1": "chelsea0@adventure-works.com"
                },
                {
                  "0": "Jill Miller",
                  "1": "jill4@adventure-works.com"
                },
                {
                  "0": "Isaiah King",
                  "1": "isaiah43@adventure-works.com"
                },
                {
                  "0": "Hailey Hernandez",
                  "1": "hailey58@adventure-works.com"
                },
                {
                  "0": "Taylor Bell",
                  "1": "taylor7@adventure-works.com"
                },
                {
                  "0": "Marcus Williams",
                  "1": "marcus2@adventure-works.com"
                },
                {
                  "0": "Cameron Griffin",
                  "1": "cameron16@adventure-works.com"
                },
                {
                  "0": "Lindsey Chander",
                  "1": "lindsey17@adventure-works.com"
                },
                {
                  "0": "Emma Brown",
                  "1": "emma3@adventure-works.com"
                },
                {
                  "0": "Kelli Zhu",
                  "1": "kelli15@adventure-works.com"
                },
                {
                  "0": "Seth Murphy",
                  "1": "seth86@adventure-works.com"
                },
                {
                  "0": "Brianna Stewart",
                  "1": "brianna24@adventure-works.com"
                },
                {
                  "0": "Gregory Andersen",
                  "1": "gregory16@adventure-works.com"
                },
                {
                  "0": "Mary Adams",
                  "1": "mary29@adventure-works.com"
                },
                {
                  "0": "Lawrence Suarez",
                  "1": "lawrence18@adventure-works.com"
                },
                {
                  "0": "Eduardo Griffin",
                  "1": "eduardo64@adventure-works.com"
                },
                {
                  "0": "Hunter Diaz",
                  "1": "hunter17@adventure-works.com"
                },
                {
                  "0": "Kyle Foster",
                  "1": "kyle11@adventure-works.com"
                },
                {
                  "0": "Cara Hu",
                  "1": "cara16@adventure-works.com"
                },
                {
                  "0": "Javier Serrano",
                  "1": "javier11@adventure-works.com"
                },
                {
                  "0": "Savannah Sanders",
                  "1": "savannah2@adventure-works.com"
                },
                {
                  "0": "Logan Wilson",
                  "1": "logan58@adventure-works.com"
                },
                {
                  "0": "Gilbert Liang",
                  "1": "gilbert14@adventure-works.com"
                },
                {
                  "0": "Trevor Hughes",
                  "1": "trevor11@adventure-works.com"
                },
                {
                  "0": "Karla Raji",
                  "1": "karla22@adventure-works.com"
                },
                {
                  "0": "Derek Xu",
                  "1": "derek5@adventure-works.com"
                },
                {
                  "0": "Ashley Perry",
                  "1": "ashley34@adventure-works.com"
                },
                {
                  "0": "Yolanda Shan",
                  "1": "yolanda9@adventure-works.com"
                },
                {
                  "0": "Andres Pal",
                  "1": "andres9@adventure-works.com"
                },
                {
                  "0": "Sydney Robinson",
                  "1": "sydney80@adventure-works.com"
                },
                {
                  "0": "Emily Jenkins",
                  "1": "emily31@adventure-works.com"
                },
                {
                  "0": "David Simpson",
                  "1": "david24@adventure-works.com"
                },
                {
                  "0": "Robert Thomas",
                  "1": "robert69@adventure-works.com"
                },
                {
                  "0": "Valerie Zhou",
                  "1": "valerie10@adventure-works.com"
                },
                {
                  "0": "Jessie Romero",
                  "1": "jessie15@adventure-works.com"
                },
                {
                  "0": "Jorge Gao",
                  "1": "jorge17@adventure-works.com"
                },
                {
                  "0": "Morgan Ward",
                  "1": "morgan60@adventure-works.com"
                },
                {
                  "0": "Arthur Prasad",
                  "1": "arthur11@adventure-works.com"
                },
                {
                  "0": "Jaclyn Tang",
                  "1": "jaclyn27@adventure-works.com"
                },
                {
                  "0": "Robin Ramos",
                  "1": "robin13@adventure-works.com"
                },
                {
                  "0": "Bryan Rivera",
                  "1": "bryan17@adventure-works.com"
                },
                {
                  "0": "Ronnie Zeng",
                  "1": "ronnie19@adventure-works.com"
                },
                {
                  "0": "Cedric Guo",
                  "1": "cedric17@adventure-works.com"
                },
                {
                  "0": "Michele Kapoor",
                  "1": "michele56@adventure-works.com"
                },
                {
                  "0": "Chelsea Perez",
                  "1": "chelsea23@adventure-works.com"
                },
                {
                  "0": "Janet Ruiz",
                  "1": "janet7@adventure-works.com"
                },
                {
                  "0": "Alvin Luo",
                  "1": "alvin28@adventure-works.com"
                },
                {
                  "0": "Dylan Simmons",
                  "1": "dylan14@adventure-works.com"
                },
                {
                  "0": "Nicole Anderson",
                  "1": "nicole10@adventure-works.com"
                },
                {
                  "0": "Kristy Navarro",
                  "1": "kristy9@adventure-works.com"
                },
                {
                  "0": "Douglas Sanchez",
                  "1": "douglas24@adventure-works.com"
                },
                {
                  "0": "Dalton Bennett",
                  "1": "dalton46@adventure-works.com"
                },
                {
                  "0": "Terrance Raman",
                  "1": "terrance9@adventure-works.com"
                },
                {
                  "0": "Garrett Cox",
                  "1": "garrett15@adventure-works.com"
                },
                {
                  "0": "Ernest Gao",
                  "1": "ernest15@adventure-works.com"
                },
                {
                  "0": "Paige Rivera",
                  "1": "paige41@adventure-works.com"
                },
                {
                  "0": "Brandon Davis",
                  "1": "brandon43@adventure-works.com"
                },
                {
                  "0": "Kaitlyn Simmons",
                  "1": "kaitlyn82@adventure-works.com"
                },
                {
                  "0": "Willie Chander",
                  "1": "willie35@adventure-works.com"
                },
                {
                  "0": "Mackenzie Sanders",
                  "1": "mackenzie2@adventure-works.com"
                },
                {
                  "0": "Alexandra Johnson",
                  "1": "alexandra64@adventure-works.com"
                },
                {
                  "0": "Cole James",
                  "1": "cole0@adventure-works.com"
                },
                {
                  "0": "Jaime Chander",
                  "1": "jaime38@adventure-works.com"
                },
                {
                  "0": "Roger Zheng",
                  "1": "roger23@adventure-works.com"
                },
                {
                  "0": "Marcus Rogers",
                  "1": "marcus94@adventure-works.com"
                },
                {
                  "0": "Kristi Vance",
                  "1": "kristi20@adventure-works.com"
                },
                {
                  "0": "Tasha Ashe",
                  "1": "tasha22@adventure-works.com"
                },
                {
                  "0": "Destiny Gray",
                  "1": "destiny41@adventure-works.com"
                },
                {
                  "0": "Peter Anand",
                  "1": "peter27@adventure-works.com"
                },
                {
                  "0": "Russell Xie",
                  "1": "russell7@adventure-works.com"
                },
                {
                  "0": "Katherine Nelson",
                  "1": "katherine57@adventure-works.com"
                },
                {
                  "0": "Autumn Lu",
                  "1": "autumn10@adventure-works.com"
                },
                {
                  "0": "Kaylee Adams",
                  "1": "kaylee38@adventure-works.com"
                },
                {
                  "0": "Sheila Alonso",
                  "1": "sheila8@adventure-works.com"
                },
                {
                  "0": "Stephanie Young",
                  "1": "stephanie69@adventure-works.com"
                },
                {
                  "0": "Lauren Jenkins",
                  "1": "lauren54@adventure-works.com"
                },
                {
                  "0": "Armando Navarro",
                  "1": "armando10@adventure-works.com"
                },
                {
                  "0": "Benjamin Jackson",
                  "1": "benjamin48@adventure-works.com"
                },
                {
                  "0": "Lydia Garcia",
                  "1": "lydia13@adventure-works.com"
                },
                {
                  "0": "Alyssa Jones",
                  "1": "alyssa2@adventure-works.com"
                },
                {
                  "0": "Karen Zeng",
                  "1": "karen31@adventure-works.com"
                },
                {
                  "0": "Jill Martinez",
                  "1": "jill7@adventure-works.com"
                },
                {
                  "0": "Jorge Liu",
                  "1": "jorge5@adventure-works.com"
                },
                {
                  "0": "Keith Andersen",
                  "1": "keith16@adventure-works.com"
                },
                {
                  "0": "Sheena Chander",
                  "1": "sheena14@adventure-works.com"
                },
                {
                  "0": "Stephanie Hughes",
                  "1": "stephanie38@adventure-works.com"
                },
                {
                  "0": "Amy Cai",
                  "1": "amy28@adventure-works.com"
                },
                {
                  "0": "Isabelle Patterson",
                  "1": "isabelle9@adventure-works.com"
                },
                {
                  "0": "Wyatt Washington",
                  "1": "wyatt63@adventure-works.com"
                },
                {
                  "0": "Jose Shan",
                  "1": "jose25@adventure-works.com"
                },
                {
                  "0": "Jenny Tang",
                  "1": "jenny27@adventure-works.com"
                },
                {
                  "0": "Christy Ye",
                  "1": "christy9@adventure-works.com"
                },
                {
                  "0": "Heidi Mehta",
                  "1": "heidi16@adventure-works.com"
                },
                {
                  "0": "Kaitlin Martinez",
                  "1": "kaitlin16@adventure-works.com"
                },
                {
                  "0": "Meagan Raman",
                  "1": "meagan12@adventure-works.com"
                },
                {
                  "0": "Alan Shen",
                  "1": "alan3@adventure-works.com"
                },
                {
                  "0": "Steven Morris",
                  "1": "steven28@adventure-works.com"
                },
                {
                  "0": "Clayton Zhou",
                  "1": "clayton7@adventure-works.com"
                },
                {
                  "0": "Mallory Navarro",
                  "1": "mallory17@adventure-works.com"
                },
                {
                  "0": "Bryant Raman",
                  "1": "bryant11@adventure-works.com"
                },
                {
                  "0": "Marco Lopez",
                  "1": "marco17@adventure-works.com"
                },
                {
                  "0": "Levi Sanchez",
                  "1": "levi18@adventure-works.com"
                },
                {
                  "0": "Lacey Lin",
                  "1": "lacey20@adventure-works.com"
                },
                {
                  "0": "Marco Suri",
                  "1": "marco0@adventure-works.com"
                },
                {
                  "0": "Stephanie Cook",
                  "1": "stephanie8@adventure-works.com"
                },
                {
                  "0": "Caleb Young",
                  "1": "caleb46@adventure-works.com"
                },
                {
                  "0": "Derek Nara",
                  "1": "derek15@adventure-works.com"
                },
                {
                  "0": "Kayla Hughes",
                  "1": "kayla35@adventure-works.com"
                },
                {
                  "0": "Martin Gonzalez",
                  "1": "martin23@adventure-works.com"
                },
                {
                  "0": "Autumn Li",
                  "1": "autumn3@adventure-works.com"
                },
                {
                  "0": "Carly Lal",
                  "1": "carly8@adventure-works.com"
                },
                {
                  "0": "Blake Campbell",
                  "1": "blake43@adventure-works.com"
                },
                {
                  "0": "Carolyn Madan",
                  "1": "carolyn7@adventure-works.com"
                },
                {
                  "0": "Rebekah Malhotra",
                  "1": "rebekah5@adventure-works.com"
                },
                {
                  "0": "Eduardo Butler",
                  "1": "eduardo58@adventure-works.com"
                },
                {
                  "0": "Jill Alonso",
                  "1": "jill16@adventure-works.com"
                },
                {
                  "0": "Anthony Johnson",
                  "1": "anthony10@adventure-works.com"
                },
                {
                  "0": "Clarence Lal",
                  "1": "clarence23@adventure-works.com"
                },
                {
                  "0": "Theodore Alvarez",
                  "1": "theodore5@adventure-works.com"
                },
                {
                  "0": "Julie Chander",
                  "1": "julie20@adventure-works.com"
                },
                {
                  "0": "Isabella Flores",
                  "1": "isabella22@adventure-works.com"
                },
                {
                  "0": "Charles Johnston",
                  "1": "charles4@adventure-works.com"
                },
                {
                  "0": "Cedric Xu",
                  "1": "cedric11@adventure-works.com"
                },
                {
                  "0": "Casey Rowe",
                  "1": "casey25@adventure-works.com"
                },
                {
                  "0": "Jenna Hall",
                  "1": "jenna21@adventure-works.com"
                },
                {
                  "0": "Sarah Davis",
                  "1": "sarah7@adventure-works.com"
                },
                {
                  "0": "Dana Gomez",
                  "1": "dana17@adventure-works.com"
                },
                {
                  "0": "Veronica Garcia",
                  "1": "veronica16@adventure-works.com"
                },
                {
                  "0": "Ricardo She",
                  "1": "ricardo0@adventure-works.com"
                },
                {
                  "0": "Mackenzie Allen",
                  "1": "mackenzie44@adventure-works.com"
                },
                {
                  "0": "Bryant Fernandez",
                  "1": "bryant15@adventure-works.com"
                },
                {
                  "0": "Terrence Sharma",
                  "1": "terrence9@adventure-works.com"
                },
                {
                  "0": "Karla Sharma",
                  "1": "karla10@adventure-works.com"
                },
                {
                  "0": "Jennifer Barnes",
                  "1": "jennifer78@adventure-works.com"
                },
                {
                  "0": "Joanna Ortega",
                  "1": "joanna20@adventure-works.com"
                },
                {
                  "0": "Devin Smith",
                  "1": "devin0@adventure-works.com"
                },
                {
                  "0": "Albert Gomez",
                  "1": "albert4@adventure-works.com"
                },
                {
                  "0": "Shelby Gray",
                  "1": "shelby6@adventure-works.com"
                },
                {
                  "0": "Stanley Raman",
                  "1": "stanley13@adventure-works.com"
                },
                {
                  "0": "Tabitha Prasad",
                  "1": "tabitha7@adventure-works.com"
                },
                {
                  "0": "Francis Hernandez",
                  "1": "francis1@adventure-works.com"
                },
                {
                  "0": "Jon Tang",
                  "1": "jon44@adventure-works.com"
                },
                {
                  "0": "Gabrielle Gonzales",
                  "1": "gabrielle39@adventure-works.com"
                },
                {
                  "0": "Candace Chapman",
                  "1": "candace1@adventure-works.com"
                },
                {
                  "0": "Roger Wang",
                  "1": "roger6@adventure-works.com"
                },
                {
                  "0": "Colleen Li",
                  "1": "colleen3@adventure-works.com"
                },
                {
                  "0": "Kayla Martin",
                  "1": "kayla15@adventure-works.com"
                },
                {
                  "0": "Julie Shan",
                  "1": "julie15@adventure-works.com"
                },
                {
                  "0": "Courtney Allen",
                  "1": "courtney19@adventure-works.com"
                },
                {
                  "0": "Billy Jim�nez",
                  "1": "billy7@adventure-works.com"
                },
                {
                  "0": "Jessie Alonso",
                  "1": "jessie6@adventure-works.com"
                },
                {
                  "0": "Angel Howard",
                  "1": "angel11@adventure-works.com"
                },
                {
                  "0": "Carl Sharma",
                  "1": "carl9@adventure-works.com"
                },
                {
                  "0": "Alfredo Romero",
                  "1": "alfredo10@adventure-works.com"
                },
                {
                  "0": "Julia Gonzalez",
                  "1": "julia14@adventure-works.com"
                },
                {
                  "0": "Mary Gonzalez",
                  "1": "mary21@adventure-works.com"
                },
                {
                  "0": "Mason Adams",
                  "1": "mason35@adventure-works.com"
                },
                {
                  "0": "Latoya Chande",
                  "1": "latoya13@adventure-works.com"
                },
                {
                  "0": "Cassie Sutton",
                  "1": "cassie2@adventure-works.com"
                },
                {
                  "0": "Darren Hernandez",
                  "1": "darren25@adventure-works.com"
                },
                {
                  "0": "Richard Price",
                  "1": "richard56@adventure-works.com"
                },
                {
                  "0": "Tara Ashe",
                  "1": "tara23@adventure-works.com"
                },
                {
                  "0": "Seth Nelson",
                  "1": "seth36@adventure-works.com"
                },
                {
                  "0": "Regina Chandra",
                  "1": "regina2@adventure-works.com"
                },
                {
                  "0": "Alexis Miller",
                  "1": "alexis5@adventure-works.com"
                },
                {
                  "0": "Summer Gonzalez",
                  "1": "summer16@adventure-works.com"
                },
                {
                  "0": "Sarah Robinson",
                  "1": "sarah20@adventure-works.com"
                },
                {
                  "0": "Naomi Munoz",
                  "1": "naomi7@adventure-works.com"
                },
                {
                  "0": "Preston Sai",
                  "1": "preston4@adventure-works.com"
                },
                {
                  "0": "Adriana Raman",
                  "1": "adriana13@adventure-works.com"
                },
                {
                  "0": "Warren Zhou",
                  "1": "warren24@adventure-works.com"
                },
                {
                  "0": "Carl Shan",
                  "1": "carl10@adventure-works.com"
                },
                {
                  "0": "Trisha Guo",
                  "1": "trisha12@adventure-works.com"
                },
                {
                  "0": "Mallory Gill",
                  "1": "mallory0@adventure-works.com"
                },
                {
                  "0": "Kayla Foster",
                  "1": "kayla40@adventure-works.com"
                },
                {
                  "0": "Krystal Liang",
                  "1": "krystal17@adventure-works.com"
                },
                {
                  "0": "Joseph White",
                  "1": "joseph19@adventure-works.com"
                },
                {
                  "0": "Brianna Howard",
                  "1": "brianna38@adventure-works.com"
                },
                {
                  "0": "Scott Rodgers",
                  "1": "scott10@adventure-works.com"
                },
                {
                  "0": "James White",
                  "1": "james85@adventure-works.com"
                },
                {
                  "0": "Arturo Zhao",
                  "1": "arturo11@adventure-works.com"
                },
                {
                  "0": "Colin Huang",
                  "1": "colin6@adventure-works.com"
                },
                {
                  "0": "Marcus Edwards",
                  "1": "marcus47@adventure-works.com"
                },
                {
                  "0": "Kaitlyn Edwards",
                  "1": "kaitlyn1@adventure-works.com"
                },
                {
                  "0": "Damien Chen",
                  "1": "damien1@adventure-works.com"
                },
                {
                  "0": "Robert Jackson",
                  "1": "robert70@adventure-works.com"
                },
                {
                  "0": "Jose Foster",
                  "1": "jose10@adventure-works.com"
                },
                {
                  "0": "Colin Chander",
                  "1": "colin39@adventure-works.com"
                },
                {
                  "0": "Gilbert Nath",
                  "1": "gilbert38@adventure-works.com"
                },
                {
                  "0": "Osarumwense Agbonile",
                  "1": "osarumwense0@adventure-works.com"
                },
                {
                  "0": "Lydia Srini",
                  "1": "lydia7@adventure-works.com"
                },
                {
                  "0": "Mary Young",
                  "1": "mary37@adventure-works.com"
                },
                {
                  "0": "Noah Perry",
                  "1": "noah4@adventure-works.com"
                },
                {
                  "0": "Lee Jimenez",
                  "1": "lee3@adventure-works.com"
                },
                {
                  "0": "Terry Yuan",
                  "1": "terry10@adventure-works.com"
                },
                {
                  "0": "Chloe Morgan",
                  "1": "chloe51@adventure-works.com"
                },
                {
                  "0": "Jillian Garcia",
                  "1": "jillian15@adventure-works.com"
                },
                {
                  "0": "Sebastian Cox",
                  "1": "sebastian11@adventure-works.com"
                },
                {
                  "0": "Kristine Alonso",
                  "1": "kristine9@adventure-works.com"
                },
                {
                  "0": "Nichole Goel",
                  "1": "nichole19@adventure-works.com"
                },
                {
                  "0": "Bonnie Sharma",
                  "1": "bonnie15@adventure-works.com"
                },
                {
                  "0": "Olivia Morris",
                  "1": "olivia26@adventure-works.com"
                },
                {
                  "0": "Erika Gill",
                  "1": "erika11@adventure-works.com"
                },
                {
                  "0": "Aaron Allen",
                  "1": "aaron55@adventure-works.com"
                },
                {
                  "0": "Evelyn Subram",
                  "1": "evelyn14@adventure-works.com"
                },
                {
                  "0": "Zachary Chen",
                  "1": "zachary24@adventure-works.com"
                },
                {
                  "0": "Joe Srini",
                  "1": "joe11@adventure-works.com"
                },
                {
                  "0": "Nancy Martinez",
                  "1": "nancy21@adventure-works.com"
                },
                {
                  "0": "Mitchell Shen",
                  "1": "mitchell2@adventure-works.com"
                },
                {
                  "0": "Jerome Dominguez",
                  "1": "jerome11@adventure-works.com"
                },
                {
                  "0": "Jasmine Harris",
                  "1": "jasmine12@adventure-works.com"
                },
                {
                  "0": "Candice Sun",
                  "1": "candice19@adventure-works.com"
                },
                {
                  "0": "Edgar Mehta",
                  "1": "edgar15@adventure-works.com"
                },
                {
                  "0": "Mackenzie Hill",
                  "1": "mackenzie33@adventure-works.com"
                },
                {
                  "0": "Isaiah Ramirez",
                  "1": "isaiah6@adventure-works.com"
                },
                {
                  "0": "Byron Ortega",
                  "1": "byron16@adventure-works.com"
                },
                {
                  "0": "Barry Martinez",
                  "1": "barry18@adventure-works.com"
                },
                {
                  "0": "Jaclyn Zheng",
                  "1": "jaclyn21@adventure-works.com"
                },
                {
                  "0": "Clayton Rai",
                  "1": "clayton35@adventure-works.com"
                },
                {
                  "0": "Alisha Nath",
                  "1": "alisha43@adventure-works.com"
                },
                {
                  "0": "Vanessa Russell",
                  "1": "vanessa20@adventure-works.com"
                },
                {
                  "0": "Jennifer Sanders",
                  "1": "jennifer74@adventure-works.com"
                },
                {
                  "0": "Edward Thompson",
                  "1": "edward38@adventure-works.com"
                },
                {
                  "0": "Mariah Reed",
                  "1": "mariah43@adventure-works.com"
                },
                {
                  "0": "Maria Peterson",
                  "1": "maria17@adventure-works.com"
                },
                {
                  "0": "Darren Diaz",
                  "1": "darren24@adventure-works.com"
                },
                {
                  "0": "Kelli Chande",
                  "1": "kelli38@adventure-works.com"
                },
                {
                  "0": "Priscilla Yuan",
                  "1": "priscilla6@adventure-works.com"
                },
                {
                  "0": "Luis Lal",
                  "1": "luis29@adventure-works.com"
                },
                {
                  "0": "Elizabeth Brown",
                  "1": "elizabeth8@adventure-works.com"
                },
                {
                  "0": "Evelyn Gonzalez",
                  "1": "evelyn19@adventure-works.com"
                },
                {
                  "0": "Edgar Gonzalez",
                  "1": "edgar19@adventure-works.com"
                },
                {
                  "0": "Julia Evans",
                  "1": "julia2@adventure-works.com"
                },
                {
                  "0": "Beth Serrano",
                  "1": "beth19@adventure-works.com"
                },
                {
                  "0": "Brandy Arun",
                  "1": "brandy2@adventure-works.com"
                },
                {
                  "0": "Olivia Thomas",
                  "1": "olivia10@adventure-works.com"
                },
                {
                  "0": "Eduardo Anderson",
                  "1": "eduardo8@adventure-works.com"
                },
                {
                  "0": "Arianna James",
                  "1": "arianna29@adventure-works.com"
                },
                {
                  "0": "Cole Murphy",
                  "1": "cole15@adventure-works.com"
                },
                {
                  "0": "Andrew Wedge",
                  "1": "andrew22@adventure-works.com"
                },
                {
                  "0": "Summer Prasad",
                  "1": "summer8@adventure-works.com"
                },
                {
                  "0": "Patrick Stewart",
                  "1": "patrick27@adventure-works.com"
                },
                {
                  "0": "Carson Foster",
                  "1": "carson15@adventure-works.com"
                },
                {
                  "0": "Darryl Zeng",
                  "1": "darryl21@adventure-works.com"
                },
                {
                  "0": "Omar Zhou",
                  "1": "omar8@adventure-works.com"
                },
                {
                  "0": "Julia Edwards",
                  "1": "julia3@adventure-works.com"
                },
                {
                  "0": "Jon Zhang",
                  "1": "jon19@adventure-works.com"
                },
                {
                  "0": "Ivan Gonzalez",
                  "1": "ivan15@adventure-works.com"
                },
                {
                  "0": "Keith Kumar",
                  "1": "keith10@adventure-works.com"
                },
                {
                  "0": "Katherine Hall",
                  "1": "katherine96@adventure-works.com"
                },
                {
                  "0": "Carlos Parker",
                  "1": "carlos25@adventure-works.com"
                },
                {
                  "0": "Kristin She",
                  "1": "kristin2@adventure-works.com"
                },
                {
                  "0": "Andrea Ramirez",
                  "1": "andrea7@adventure-works.com"
                },
                {
                  "0": "Ross Hernandez",
                  "1": "ross24@adventure-works.com"
                },
                {
                  "0": "Matthew Harris",
                  "1": "matthew19@adventure-works.com"
                },
                {
                  "0": "Christian Anderson",
                  "1": "christian45@adventure-works.com"
                },
                {
                  "0": "Caleb Griffin",
                  "1": "caleb17@adventure-works.com"
                },
                {
                  "0": "Zachary Alexander",
                  "1": "zachary17@adventure-works.com"
                },
                {
                  "0": "Tracy Rai",
                  "1": "tracy16@adventure-works.com"
                },
                {
                  "0": "Lauren Gray",
                  "1": "lauren16@adventure-works.com"
                },
                {
                  "0": "Stephanie Barnes",
                  "1": "stephanie30@adventure-works.com"
                },
                {
                  "0": "Victoria Torres",
                  "1": "victoria40@adventure-works.com"
                },
                {
                  "0": "Bailey Roberts",
                  "1": "bailey25@adventure-works.com"
                },
                {
                  "0": "Megan Davis",
                  "1": "megan8@adventure-works.com"
                },
                {
                  "0": "Brooke Rogers",
                  "1": "brooke17@adventure-works.com"
                },
                {
                  "0": "Ebony Rodriguez",
                  "1": "ebony20@adventure-works.com"
                },
                {
                  "0": "Jose Thomas",
                  "1": "jose72@adventure-works.com"
                },
                {
                  "0": "Denise Perez",
                  "1": "denise22@adventure-works.com"
                },
                {
                  "0": "Makayla Brooks",
                  "1": "makayla1@adventure-works.com"
                },
                {
                  "0": "Elijah Diaz",
                  "1": "elijah23@adventure-works.com"
                },
                {
                  "0": "Martin Prasad",
                  "1": "martin14@adventure-works.com"
                },
                {
                  "0": "Jaclyn Nara",
                  "1": "jaclyn40@adventure-works.com"
                },
                {
                  "0": "Garrett Kelly",
                  "1": "garrett6@adventure-works.com"
                },
                {
                  "0": "Carolyn Garcia",
                  "1": "carolyn14@adventure-works.com"
                },
                {
                  "0": "Thomas Ross",
                  "1": "thomas5@adventure-works.com"
                },
                {
                  "0": "Jordyn Flores",
                  "1": "jordyn12@adventure-works.com"
                },
                {
                  "0": "Tabitha Jimenez",
                  "1": "tabitha25@adventure-works.com"
                },
                {
                  "0": "Kristine Munoz",
                  "1": "kristine8@adventure-works.com"
                },
                {
                  "0": "Amanda Griffin",
                  "1": "amanda42@adventure-works.com"
                },
                {
                  "0": "Natalie Wilson",
                  "1": "natalie74@adventure-works.com"
                },
                {
                  "0": "Mary Perez",
                  "1": "mary25@adventure-works.com"
                },
                {
                  "0": "Joshua Thompson",
                  "1": "joshua17@adventure-works.com"
                },
                {
                  "0": "Isabella Roberts",
                  "1": "isabella43@adventure-works.com"
                },
                {
                  "0": "Wesley Li",
                  "1": "wesley3@adventure-works.com"
                },
                {
                  "0": "Clayton Wagner",
                  "1": "clayton1@adventure-works.com"
                },
                {
                  "0": "Kathryn Xie",
                  "1": "kathryn3@adventure-works.com"
                },
                {
                  "0": "Monique Munoz",
                  "1": "monique3@adventure-works.com"
                },
                {
                  "0": "Dominique Fernandez",
                  "1": "dominique13@adventure-works.com"
                },
                {
                  "0": "Jay Rana",
                  "1": "jay18@adventure-works.com"
                },
                {
                  "0": "Emily Bryant",
                  "1": "emily43@adventure-works.com"
                },
                {
                  "0": "Gilbert Zeng",
                  "1": "gilbert20@adventure-works.com"
                },
                {
                  "0": "Ana Bradley",
                  "1": "ana1@adventure-works.com"
                },
                {
                  "0": "Haley Hall",
                  "1": "haley57@adventure-works.com"
                },
                {
                  "0": "Jackson Ross",
                  "1": "jackson6@adventure-works.com"
                },
                {
                  "0": "Maria Edwards",
                  "1": "maria45@adventure-works.com"
                },
                {
                  "0": "Evelyn Fernandez",
                  "1": "evelyn16@adventure-works.com"
                },
                {
                  "0": "Jenna Nelson",
                  "1": "jenna9@adventure-works.com"
                },
                {
                  "0": "Shannon Carlson",
                  "1": "shannon38@adventure-works.com"
                },
                {
                  "0": "Megan Ramirez",
                  "1": "megan44@adventure-works.com"
                },
                {
                  "0": "Jessica Cooper",
                  "1": "jessica11@adventure-works.com"
                },
                {
                  "0": "Megan Rodriguez",
                  "1": "megan23@adventure-works.com"
                },
                {
                  "0": "Richard Torres",
                  "1": "richard85@adventure-works.com"
                },
                {
                  "0": "Jay Perez",
                  "1": "jay28@adventure-works.com"
                },
                {
                  "0": "Nelson Torres",
                  "1": "nelson10@adventure-works.com"
                },
                {
                  "0": "Mary Ramos",
                  "1": "mary38@adventure-works.com"
                },
                {
                  "0": "Dominique Chandra",
                  "1": "dominique2@adventure-works.com"
                },
                {
                  "0": "Sydney Bennett",
                  "1": "sydney23@adventure-works.com"
                },
                {
                  "0": "Brandy Kapoor",
                  "1": "brandy19@adventure-works.com"
                },
                {
                  "0": "Larry Hernandez",
                  "1": "larry5@adventure-works.com"
                },
                {
                  "0": "Tristan Gonzales",
                  "1": "tristan17@adventure-works.com"
                },
                {
                  "0": "Eddie Sanz",
                  "1": "eddie20@adventure-works.com"
                },
                {
                  "0": "Alexander Martinez",
                  "1": "alexander21@adventure-works.com"
                },
                {
                  "0": "Nathan Perry",
                  "1": "nathan3@adventure-works.com"
                },
                {
                  "0": "Luis Adams",
                  "1": "luis48@adventure-works.com"
                },
                {
                  "0": "Craig Suarez",
                  "1": "craig18@adventure-works.com"
                },
                {
                  "0": "Christian Walker",
                  "1": "christian44@adventure-works.com"
                },
                {
                  "0": "Sergio Gonzalez",
                  "1": "sergio19@adventure-works.com"
                },
                {
                  "0": "Adam Wang",
                  "1": "adam21@adventure-works.com"
                },
                {
                  "0": "Dustin Yuan",
                  "1": "dustin6@adventure-works.com"
                },
                {
                  "0": "Joseph Thompson",
                  "1": "joseph22@adventure-works.com"
                },
                {
                  "0": "Whitney Sanchez",
                  "1": "whitney19@adventure-works.com"
                },
                {
                  "0": "Nicole Harris",
                  "1": "nicole14@adventure-works.com"
                },
                {
                  "0": "Melinda Vazquez",
                  "1": "melinda10@adventure-works.com"
                },
                {
                  "0": "Angelica Diaz",
                  "1": "angelica21@adventure-works.com"
                },
                {
                  "0": "Adrienne Jim�nez",
                  "1": "adrienne5@adventure-works.com"
                },
                {
                  "0": "Donna Beck",
                  "1": "donna18@adventure-works.com"
                },
                {
                  "0": "Autumn Wu",
                  "1": "autumn6@adventure-works.com"
                },
                {
                  "0": "Amy Hu",
                  "1": "amy27@adventure-works.com"
                },
                {
                  "0": "Colleen Zhou",
                  "1": "colleen9@adventure-works.com"
                },
                {
                  "0": "Louis Yuan",
                  "1": "louis24@adventure-works.com"
                },
                {
                  "0": "Dustin Nara",
                  "1": "dustin17@adventure-works.com"
                },
                {
                  "0": "Douglas Patel",
                  "1": "douglas6@adventure-works.com"
                },
                {
                  "0": "Brianna Cook",
                  "1": "brianna29@adventure-works.com"
                },
                {
                  "0": "Shane Sanchez",
                  "1": "shane23@adventure-works.com"
                },
                {
                  "0": "Danny Gutierrez",
                  "1": "danny12@adventure-works.com"
                },
                {
                  "0": "Larry Munoz",
                  "1": "larry9@adventure-works.com"
                },
                {
                  "0": "Jose Taylor",
                  "1": "jose69@adventure-works.com"
                },
                {
                  "0": "Rachel Wilson",
                  "1": "rachel9@adventure-works.com"
                },
                {
                  "0": "Ebony Martin",
                  "1": "ebony22@adventure-works.com"
                },
                {
                  "0": "Wyatt Young",
                  "1": "wyatt27@adventure-works.com"
                },
                {
                  "0": "Steve Chen",
                  "1": "steve6@adventure-works.com"
                },
                {
                  "0": "Sophia Nelson",
                  "1": "sophia8@adventure-works.com"
                },
                {
                  "0": "Ruben Rubio",
                  "1": "ruben0@adventure-works.com"
                },
                {
                  "0": "Candace Kapoor",
                  "1": "candace0@adventure-works.com"
                },
                {
                  "0": "Jarrod Weber",
                  "1": "jarrod4@adventure-works.com"
                },
                {
                  "0": "Darren Saunders",
                  "1": "darren13@adventure-works.com"
                },
                {
                  "0": "Victoria Cox",
                  "1": "victoria37@adventure-works.com"
                },
                {
                  "0": "Alexa Kelly",
                  "1": "alexa2@adventure-works.com"
                },
                {
                  "0": "Brandon Diaz",
                  "1": "brandon18@adventure-works.com"
                },
                {
                  "0": "Jonathan Edwards",
                  "1": "jonathan31@adventure-works.com"
                },
                {
                  "0": "Brad Deng",
                  "1": "brad2@adventure-works.com"
                },
                {
                  "0": "Clarence Goel",
                  "1": "clarence34@adventure-works.com"
                },
                {
                  "0": "Maurice Lal",
                  "1": "maurice9@adventure-works.com"
                },
                {
                  "0": "Robyn Gill",
                  "1": "robyn11@adventure-works.com"
                },
                {
                  "0": "Hunter Anderson",
                  "1": "hunter68@adventure-works.com"
                },
                {
                  "0": "Micheal Romero",
                  "1": "micheal4@adventure-works.com"
                },
                {
                  "0": "Allison Edwards",
                  "1": "allison22@adventure-works.com"
                },
                {
                  "0": "Evelyn Lopez",
                  "1": "evelyn17@adventure-works.com"
                },
                {
                  "0": "K. Saravan",
                  "1": "k0@adventure-works.com"
                },
                {
                  "0": "Dwayne Martin",
                  "1": "dwayne0@adventure-works.com"
                },
                {
                  "0": "Anne Gomez",
                  "1": "anne2@adventure-works.com"
                },
                {
                  "0": "Wesley Gao",
                  "1": "wesley15@adventure-works.com"
                },
                {
                  "0": "Eduardo Powell",
                  "1": "eduardo53@adventure-works.com"
                },
                {
                  "0": "Emily Harris",
                  "1": "emily14@adventure-works.com"
                },
                {
                  "0": "Cristina Nara",
                  "1": "cristina15@adventure-works.com"
                },
                {
                  "0": "Lucas Sanchez",
                  "1": "lucas88@adventure-works.com"
                },
                {
                  "0": "Jared James",
                  "1": "jared1@adventure-works.com"
                },
                {
                  "0": "Nina Xu",
                  "1": "nina5@adventure-works.com"
                },
                {
                  "0": "Troy Srini",
                  "1": "troy9@adventure-works.com"
                },
                {
                  "0": "Jesse Mitchell",
                  "1": "jesse36@adventure-works.com"
                },
                {
                  "0": "Geoffrey Perez",
                  "1": "geoffrey19@adventure-works.com"
                },
                {
                  "0": "Janelle Raman",
                  "1": "janelle9@adventure-works.com"
                },
                {
                  "0": "Isabella Morris",
                  "1": "isabella83@adventure-works.com"
                },
                {
                  "0": "Alyssa Howard",
                  "1": "alyssa38@adventure-works.com"
                },
                {
                  "0": "Destiny Walker",
                  "1": "destiny21@adventure-works.com"
                },
                {
                  "0": "Zachary Sharma",
                  "1": "zachary27@adventure-works.com"
                },
                {
                  "0": "Olivia Rivera",
                  "1": "olivia33@adventure-works.com"
                },
                {
                  "0": "Sean Adams",
                  "1": "sean47@adventure-works.com"
                },
                {
                  "0": "Thomas Lewis",
                  "1": "thomas79@adventure-works.com"
                },
                {
                  "0": "Joseph Brown",
                  "1": "joseph10@adventure-works.com"
                },
                {
                  "0": "Todd Zhu",
                  "1": "todd13@adventure-works.com"
                },
                {
                  "0": "Jaclyn Ferrier",
                  "1": "jaclyn44@adventure-works.com"
                },
                {
                  "0": "Cory Malhotra",
                  "1": "cory3@adventure-works.com"
                },
                {
                  "0": "Laura Chen",
                  "1": "laura9@adventure-works.com"
                },
                {
                  "0": "Jaclyn Li",
                  "1": "jaclyn3@adventure-works.com"
                },
                {
                  "0": "Sean Howard",
                  "1": "sean19@adventure-works.com"
                },
                {
                  "0": "Gabriella Murphy",
                  "1": "gabriella13@adventure-works.com"
                },
                {
                  "0": "Rachel Cox",
                  "1": "rachel39@adventure-works.com"
                },
                {
                  "0": "Steve Gao",
                  "1": "steve17@adventure-works.com"
                },
                {
                  "0": "Yolanda Xie",
                  "1": "yolanda3@adventure-works.com"
                },
                {
                  "0": "Jake Zheng",
                  "1": "jake17@adventure-works.com"
                },
                {
                  "0": "Richard Howard",
                  "1": "richard93@adventure-works.com"
                },
                {
                  "0": "Juan James",
                  "1": "juan9@adventure-works.com"
                },
                {
                  "0": "Frank Navarro",
                  "1": "frank17@adventure-works.com"
                },
                {
                  "0": "Krista Romero",
                  "1": "krista10@adventure-works.com"
                },
                {
                  "0": "Johnathan Chapman",
                  "1": "johnathan3@adventure-works.com"
                },
                {
                  "0": "Gina Schmidt",
                  "1": "gina20@adventure-works.com"
                },
                {
                  "0": "Michele Jai",
                  "1": "michele11@adventure-works.com"
                },
                {
                  "0": "Jackson Lopez",
                  "1": "jackson42@adventure-works.com"
                },
                {
                  "0": "Caitlin Ward",
                  "1": "caitlin10@adventure-works.com"
                },
                {
                  "0": "Frederick Madan",
                  "1": "frederick6@adventure-works.com"
                },
                {
                  "0": "Wilson Pais",
                  "1": "wilson0@adventure-works.com"
                },
                {
                  "0": "Diane Ruiz",
                  "1": "diane7@adventure-works.com"
                },
                {
                  "0": "Bianca Gao",
                  "1": "bianca11@adventure-works.com"
                },
                {
                  "0": "Tony Natsuhara",
                  "1": "tony21@adventure-works.com"
                },
                {
                  "0": "Terrance Smith",
                  "1": "terrance6@adventure-works.com"
                },
                {
                  "0": "Tyrone Moreno",
                  "1": "tyrone6@adventure-works.com"
                },
                {
                  "0": "Evan Ward",
                  "1": "evan13@adventure-works.com"
                },
                {
                  "0": "Cassandra Fernandez",
                  "1": "cassandra17@adventure-works.com"
                },
                {
                  "0": "Priscilla Rai",
                  "1": "priscilla16@adventure-works.com"
                },
                {
                  "0": "Tyrone Rubio",
                  "1": "tyrone20@adventure-works.com"
                },
                {
                  "0": "Meredith Rana",
                  "1": "meredith10@adventure-works.com"
                },
                {
                  "0": "Jenny Lal",
                  "1": "jenny32@adventure-works.com"
                },
                {
                  "0": "Valerie Hu",
                  "1": "valerie22@adventure-works.com"
                },
                {
                  "0": "Nelson Gill",
                  "1": "nelson12@adventure-works.com"
                },
                {
                  "0": "Donald Fernandez",
                  "1": "donald17@adventure-works.com"
                },
                {
                  "0": "Sydney Young",
                  "1": "sydney89@adventure-works.com"
                },
                {
                  "0": "Alison Chande",
                  "1": "alison15@adventure-works.com"
                },
                {
                  "0": "Fernando Martin",
                  "1": "fernando13@adventure-works.com"
                },
                {
                  "0": "Dalton Perez",
                  "1": "dalton37@adventure-works.com"
                },
                {
                  "0": "Pedro Raman",
                  "1": "pedro12@adventure-works.com"
                },
                {
                  "0": "Natalie Bailey",
                  "1": "natalie9@adventure-works.com"
                },
                {
                  "0": "Elijah Alexander",
                  "1": "elijah20@adventure-works.com"
                },
                {
                  "0": "Morgan Scott",
                  "1": "morgan10@adventure-works.com"
                },
                {
                  "0": "Eugene Xu",
                  "1": "eugene16@adventure-works.com"
                },
                {
                  "0": "Jason Griffin",
                  "1": "jason18@adventure-works.com"
                },
                {
                  "0": "Cindy Jordan",
                  "1": "cindy2@adventure-works.com"
                },
                {
                  "0": "David Anderson",
                  "1": "david68@adventure-works.com"
                },
                {
                  "0": "Jose Nelson",
                  "1": "jose45@adventure-works.com"
                },
                {
                  "0": "Suzanne Zhang",
                  "1": "suzanne1@adventure-works.com"
                },
                {
                  "0": "Alejandro Gao",
                  "1": "alejandro18@adventure-works.com"
                },
                {
                  "0": "Arianna Murphy",
                  "1": "arianna37@adventure-works.com"
                },
                {
                  "0": "Mason Peterson",
                  "1": "mason6@adventure-works.com"
                },
                {
                  "0": "Jeremy Phillips",
                  "1": "jeremy16@adventure-works.com"
                },
                {
                  "0": "Alan Xu",
                  "1": "alan15@adventure-works.com"
                },
                {
                  "0": "Jacqueline Griffin",
                  "1": "jacqueline21@adventure-works.com"
                },
                {
                  "0": "Michele Xu",
                  "1": "michele5@adventure-works.com"
                },
                {
                  "0": "Sebastian Reed",
                  "1": "sebastian19@adventure-works.com"
                },
                {
                  "0": "Kaitlyn Blue",
                  "1": "kaitlyn52@adventure-works.com"
                },
                {
                  "0": "Devon Raje",
                  "1": "devon11@adventure-works.com"
                },
                {
                  "0": "Tiffany Lu",
                  "1": "tiffany11@adventure-works.com"
                },
                {
                  "0": "Kaitlin Suri",
                  "1": "kaitlin0@adventure-works.com"
                },
                {
                  "0": "Stefanie Patel",
                  "1": "stefanie2@adventure-works.com"
                },
                {
                  "0": "Kurt Xie",
                  "1": "kurt2@adventure-works.com"
                },
                {
                  "0": "Jonathan Brown",
                  "1": "jonathan54@adventure-works.com"
                },
                {
                  "0": "Jennifer Rogers",
                  "1": "jennifer55@adventure-works.com"
                },
                {
                  "0": "Levi Malhotra",
                  "1": "levi4@adventure-works.com"
                },
                {
                  "0": "Xavier Butler",
                  "1": "xavier54@adventure-works.com"
                },
                {
                  "0": "Jose Scott",
                  "1": "jose50@adventure-works.com"
                },
                {
                  "0": "Shelby Torres",
                  "1": "shelby4@adventure-works.com"
                },
                {
                  "0": "Tamara Ye",
                  "1": "tamara40@adventure-works.com"
                },
                {
                  "0": "Tina Garcia",
                  "1": "tina16@adventure-works.com"
                },
                {
                  "0": "Isaac Evans",
                  "1": "isaac23@adventure-works.com"
                },
                {
                  "0": "Carol Xu",
                  "1": "carol24@adventure-works.com"
                },
                {
                  "0": "Logan Young",
                  "1": "logan43@adventure-works.com"
                },
                {
                  "0": "Gabrielle Mitchell",
                  "1": "gabrielle54@adventure-works.com"
                },
                {
                  "0": "Jose Coleman",
                  "1": "jose29@adventure-works.com"
                },
                {
                  "0": "Faith Torres",
                  "1": "faith25@adventure-works.com"
                },
                {
                  "0": "Kaitlyn Foster",
                  "1": "kaitlyn83@adventure-works.com"
                },
                {
                  "0": "Jacqueline Ward",
                  "1": "jacqueline36@adventure-works.com"
                },
                {
                  "0": "William Miller",
                  "1": "william22@adventure-works.com"
                },
                {
                  "0": "Seth Lewis",
                  "1": "seth20@adventure-works.com"
                },
                {
                  "0": "Zachary Yang",
                  "1": "zachary25@adventure-works.com"
                },
                {
                  "0": "Chase Morris",
                  "1": "chase19@adventure-works.com"
                },
                {
                  "0": "Kayla Rodriguez",
                  "1": "kayla19@adventure-works.com"
                },
                {
                  "0": "Brenda Perez",
                  "1": "brenda25@adventure-works.com"
                },
                {
                  "0": "Phil Spencer",
                  "1": "phil0@adventure-works.com"
                },
                {
                  "0": "Timothy Scott",
                  "1": "timothy37@adventure-works.com"
                },
                {
                  "0": "Joe Rana",
                  "1": "joe14@adventure-works.com"
                },
                {
                  "0": "Fernando Flores",
                  "1": "fernando55@adventure-works.com"
                },
                {
                  "0": "Robert Adams",
                  "1": "robert57@adventure-works.com"
                },
                {
                  "0": "Jeremy Richardson",
                  "1": "jeremy39@adventure-works.com"
                },
                {
                  "0": "Lance Ortega",
                  "1": "lance22@adventure-works.com"
                },
                {
                  "0": "Carolyn Rodriguez",
                  "1": "carolyn19@adventure-works.com"
                },
                {
                  "0": "Shawn Shan",
                  "1": "shawn12@adventure-works.com"
                },
                {
                  "0": "Morgan Young",
                  "1": "morgan22@adventure-works.com"
                },
                {
                  "0": "Katelyn Gray",
                  "1": "katelyn4@adventure-works.com"
                },
                {
                  "0": "Orlando Hernandez",
                  "1": "orlando4@adventure-works.com"
                },
                {
                  "0": "Gabriella Roberts",
                  "1": "gabriella26@adventure-works.com"
                },
                {
                  "0": "Gary Dominguez",
                  "1": "gary23@adventure-works.com"
                },
                {
                  "0": "Nathaniel Howard",
                  "1": "nathaniel12@adventure-works.com"
                },
                {
                  "0": "Erin Cox",
                  "1": "erin15@adventure-works.com"
                },
                {
                  "0": "Chloe Ross",
                  "1": "chloe70@adventure-works.com"
                },
                {
                  "0": "Melinda Gutierrez",
                  "1": "melinda6@adventure-works.com"
                },
                {
                  "0": "Emily Davis",
                  "1": "emily5@adventure-works.com"
                },
                {
                  "0": "Carol Long",
                  "1": "carol6@adventure-works.com"
                },
                {
                  "0": "Colleen Anand",
                  "1": "colleen45@adventure-works.com"
                },
                {
                  "0": "Colin Andersen",
                  "1": "colin36@adventure-works.com"
                },
                {
                  "0": "Jaime Yuan",
                  "1": "jaime30@adventure-works.com"
                },
                {
                  "0": "Yolanda Simpson",
                  "1": "yolanda2@adventure-works.com"
                },
                {
                  "0": "Kristy Alvarez",
                  "1": "kristy5@adventure-works.com"
                },
                {
                  "0": "David Powell",
                  "1": "david41@adventure-works.com"
                },
                {
                  "0": "Donald Subram",
                  "1": "donald14@adventure-works.com"
                },
                {
                  "0": "Craig Romero",
                  "1": "craig10@adventure-works.com"
                },
                {
                  "0": "Jennifer Turner",
                  "1": "jennifer7@adventure-works.com"
                },
                {
                  "0": "Alexandra Washington",
                  "1": "alexandra36@adventure-works.com"
                },
                {
                  "0": "Karla Jai",
                  "1": "karla12@adventure-works.com"
                },
                {
                  "0": "Jesse James",
                  "1": "jesse8@adventure-works.com"
                },
                {
                  "0": "Mario Xu",
                  "1": "mario4@adventure-works.com"
                },
                {
                  "0": "Mariah Hayes",
                  "1": "mariah27@adventure-works.com"
                },
                {
                  "0": "Alexandria Rogers",
                  "1": "alexandria40@adventure-works.com"
                },
                {
                  "0": "Louis Luo",
                  "1": "louis23@adventure-works.com"
                },
                {
                  "0": "Marvin Hernandez",
                  "1": "marvin4@adventure-works.com"
                },
                {
                  "0": "Vincent Huang",
                  "1": "vincent6@adventure-works.com"
                },
                {
                  "0": "Leah Yang",
                  "1": "leah3@adventure-works.com"
                },
                {
                  "0": "Arthur Subram",
                  "1": "arthur15@adventure-works.com"
                },
                {
                  "0": "Carson Simmons",
                  "1": "carson14@adventure-works.com"
                },
                {
                  "0": "Mariah Bryant",
                  "1": "mariah23@adventure-works.com"
                },
                {
                  "0": "Frederick Raman",
                  "1": "frederick11@adventure-works.com"
                },
                {
                  "0": "Arturo Shan",
                  "1": "arturo35@adventure-works.com"
                },
                {
                  "0": "Marissa Henderson",
                  "1": "marissa3@adventure-works.com"
                },
                {
                  "0": "Russell She",
                  "1": "russell4@adventure-works.com"
                },
                {
                  "0": "William Martin",
                  "1": "william10@adventure-works.com"
                },
                {
                  "0": "Juan Sanchez",
                  "1": "juan28@adventure-works.com"
                },
                {
                  "0": "Connor Edwards",
                  "1": "connor30@adventure-works.com"
                },
                {
                  "0": "Sydney Watson",
                  "1": "sydney19@adventure-works.com"
                },
                {
                  "0": "Clifford Mehta",
                  "1": "clifford12@adventure-works.com"
                },
                {
                  "0": "Kaylee Hall",
                  "1": "kaylee45@adventure-works.com"
                },
                {
                  "0": "Luis Scott",
                  "1": "luis45@adventure-works.com"
                },
                {
                  "0": "Savannah Hill",
                  "1": "savannah35@adventure-works.com"
                },
                {
                  "0": "Carolyn Vazquez",
                  "1": "carolyn35@adventure-works.com"
                },
                {
                  "0": "Tamer Salah",
                  "1": "tamer0@adventure-works.com"
                },
                {
                  "0": "Mackenzie Nelson",
                  "1": "mackenzie31@adventure-works.com"
                },
                {
                  "0": "Jacqueline Morris",
                  "1": "jacqueline43@adventure-works.com"
                },
                {
                  "0": "Sean Watson",
                  "1": "sean7@adventure-works.com"
                },
                {
                  "0": "Darren Kapoor",
                  "1": "darren3@adventure-works.com"
                },
                {
                  "0": "Bradley Anand",
                  "1": "bradley24@adventure-works.com"
                },
                {
                  "0": "Morgan King",
                  "1": "morgan16@adventure-works.com"
                },
                {
                  "0": "Devin Wood",
                  "1": "devin68@adventure-works.com"
                },
                {
                  "0": "Cole Cook",
                  "1": "cole22@adventure-works.com"
                },
                {
                  "0": "Jennifer Collins",
                  "1": "jennifer6@adventure-works.com"
                },
                {
                  "0": "Ryan Zhang",
                  "1": "ryan27@adventure-works.com"
                },
                {
                  "0": "Ethan Foster",
                  "1": "ethan12@adventure-works.com"
                },
                {
                  "0": "J�sus Blanco",
                  "1": "j�sus14@adventure-works.com"
                },
                {
                  "0": "Mayra Madan",
                  "1": "mayra7@adventure-works.com"
                },
                {
                  "0": "Elijah Adams",
                  "1": "elijah43@adventure-works.com"
                },
                {
                  "0": "Evelyn Sara",
                  "1": "evelyn11@adventure-works.com"
                },
                {
                  "0": "Kurt Raheem",
                  "1": "kurt18@adventure-works.com"
                },
                {
                  "0": "Joan Hernandez",
                  "1": "joan15@adventure-works.com"
                },
                {
                  "0": "Elizabeth Wood",
                  "1": "elizabeth31@adventure-works.com"
                },
                {
                  "0": "Darrell Andersen",
                  "1": "darrell2@adventure-works.com"
                },
                {
                  "0": "Brandon Jai",
                  "1": "brandon28@adventure-works.com"
                },
                {
                  "0": "Arturo Sharma",
                  "1": "arturo34@adventure-works.com"
                },
                {
                  "0": "Olivia Coleman",
                  "1": "olivia51@adventure-works.com"
                },
                {
                  "0": "Jason Ross",
                  "1": "jason2@adventure-works.com"
                },
                {
                  "0": "Deanna Serrano",
                  "1": "deanna43@adventure-works.com"
                },
                {
                  "0": "Gregory Pal",
                  "1": "gregory15@adventure-works.com"
                },
                {
                  "0": "Janet Sanz",
                  "1": "janet26@adventure-works.com"
                },
                {
                  "0": "Peter Xu",
                  "1": "peter12@adventure-works.com"
                },
                {
                  "0": "Stacey Lin",
                  "1": "stacey8@adventure-works.com"
                },
                {
                  "0": "Caitlin Bell",
                  "1": "caitlin11@adventure-works.com"
                },
                {
                  "0": "Adam Edwards",
                  "1": "adam31@adventure-works.com"
                },
                {
                  "0": "Adam Chen",
                  "1": "adam22@adventure-works.com"
                },
                {
                  "0": "Sandra Yang",
                  "1": "sandra11@adventure-works.com"
                },
                {
                  "0": "Morgan Kelly",
                  "1": "morgan68@adventure-works.com"
                },
                {
                  "0": "Sierra Young",
                  "1": "sierra15@adventure-works.com"
                },
                {
                  "0": "Emma Cox",
                  "1": "emma37@adventure-works.com"
                },
                {
                  "0": "Julia Rodriguez",
                  "1": "julia41@adventure-works.com"
                },
                {
                  "0": "Chloe Clark",
                  "1": "chloe29@adventure-works.com"
                },
                {
                  "0": "Catherine Ramirez",
                  "1": "catherine6@adventure-works.com"
                },
                {
                  "0": "Marco Madan",
                  "1": "marco8@adventure-works.com"
                },
                {
                  "0": "Haley Parker",
                  "1": "haley47@adventure-works.com"
                },
                {
                  "0": "Jordan Wright",
                  "1": "jordan49@adventure-works.com"
                },
                {
                  "0": "Kayla Butler",
                  "1": "kayla38@adventure-works.com"
                },
                {
                  "0": "Ernest Zeng",
                  "1": "ernest20@adventure-works.com"
                },
                {
                  "0": "Kayla Barnes",
                  "1": "kayla27@adventure-works.com"
                },
                {
                  "0": "James Parker",
                  "1": "james57@adventure-works.com"
                },
                {
                  "0": "Joseph Smith",
                  "1": "joseph6@adventure-works.com"
                },
                {
                  "0": "Dylan Jones",
                  "1": "dylan38@adventure-works.com"
                },
                {
                  "0": "Donna Yuan",
                  "1": "donna6@adventure-works.com"
                },
                {
                  "0": "Willie Andersen",
                  "1": "willie32@adventure-works.com"
                },
                {
                  "0": "Gregory Winston",
                  "1": "gregory27@adventure-works.com"
                },
                {
                  "0": "Allison Howard",
                  "1": "allison10@adventure-works.com"
                },
                {
                  "0": "Joe Alvarez",
                  "1": "joe45@adventure-works.com"
                },
                {
                  "0": "Juan Howard",
                  "1": "juan21@adventure-works.com"
                },
                {
                  "0": "Franklin Liu",
                  "1": "franklin4@adventure-works.com"
                },
                {
                  "0": "Brittney Holt",
                  "1": "brittney4@adventure-works.com"
                },
                {
                  "0": "Aidan Simmons",
                  "1": "aidan16@adventure-works.com"
                },
                {
                  "0": "Angelica Henderson",
                  "1": "angelica4@adventure-works.com"
                },
                {
                  "0": "Eduardo Thomas",
                  "1": "eduardo9@adventure-works.com"
                },
                {
                  "0": "Emmanuel Suri",
                  "1": "emmanuel0@adventure-works.com"
                },
                {
                  "0": "Matthew Davis",
                  "1": "matthew11@adventure-works.com"
                },
                {
                  "0": "Cassandra Lopez",
                  "1": "cassandra18@adventure-works.com"
                },
                {
                  "0": "Kaylee Kelly",
                  "1": "kaylee1@adventure-works.com"
                }
              ],
              "schema": [
                {
                  "key": "0",
                  "name": "CustomerName",
                  "type": "string"
                },
                {
                  "key": "1",
                  "name": "Email",
                  "type": "string"
                }
              ],
              "truncated": false
            },
            "isSummary": false,
            "language": "scala"
          },
          "persist_state": {
            "view": {
              "type": "details",
              "tableOptions": {},
              "chartOptions": {
                "chartType": "bar",
                "aggregationType": "count",
                "categoryFieldKeys": [
                  "0"
                ],
                "seriesFieldKeys": [
                  "0"
                ],
                "isStacked": false
              }
            }
          }
        },
        "2398a69c-9a74-41b0-824b-e40ae79bbc51": {
          "type": "Synapse.DataFrame",
          "sync_state": {
            "table": {
              "rows": [
                {
                  "0": "Bridget Andersen",
                  "1": "bridget15@adventure-works.com"
                },
                {
                  "0": "Ricky Navarro",
                  "1": "ricky10@adventure-works.com"
                },
                {
                  "0": "Briana Ashe",
                  "1": "briana4@adventure-works.com"
                },
                {
                  "0": "Micah Xu",
                  "1": "micah23@adventure-works.com"
                },
                {
                  "0": "Ann Madan",
                  "1": "ann13@adventure-works.com"
                },
                {
                  "0": "Colleen Andersen",
                  "1": "colleen36@adventure-works.com"
                },
                {
                  "0": "Barbara Shen",
                  "1": "barbara33@adventure-works.com"
                },
                {
                  "0": "Bryant Raman",
                  "1": "bryant11@adventure-works.com"
                },
                {
                  "0": "Evelyn Subram",
                  "1": "evelyn14@adventure-works.com"
                },
                {
                  "0": "Roger Wang",
                  "1": "roger6@adventure-works.com"
                },
                {
                  "0": "Priscilla Yuan",
                  "1": "priscilla6@adventure-works.com"
                },
                {
                  "0": "Carolyn Rodriguez",
                  "1": "carolyn19@adventure-works.com"
                },
                {
                  "0": "Joan Hernandez",
                  "1": "joan15@adventure-works.com"
                },
                {
                  "0": "Brandon Jai",
                  "1": "brandon28@adventure-works.com"
                },
                {
                  "0": "Isaiah Howard",
                  "1": "isaiah10@adventure-works.com"
                },
                {
                  "0": "Robyn Gomez",
                  "1": "robyn0@adventure-works.com"
                },
                {
                  "0": "Carmen Martinez",
                  "1": "carmen2@adventure-works.com"
                },
                {
                  "0": "Adriana Sai",
                  "1": "adriana6@adventure-works.com"
                },
                {
                  "0": "Albert Navarro",
                  "1": "albert12@adventure-works.com"
                },
                {
                  "0": "Craig Navarro",
                  "1": "craig11@adventure-works.com"
                },
                {
                  "0": "Melinda Jimenez",
                  "1": "melinda2@adventure-works.com"
                },
                {
                  "0": "Ashlee Deng",
                  "1": "ashlee8@adventure-works.com"
                },
                {
                  "0": "Erika Carlson",
                  "1": "erika15@adventure-works.com"
                },
                {
                  "0": "Kaylee Collins",
                  "1": "kaylee22@adventure-works.com"
                },
                {
                  "0": "Lolan Song",
                  "1": "lolan1@adventure-works.com"
                },
                {
                  "0": "Rosa Wu",
                  "1": "rosa7@adventure-works.com"
                },
                {
                  "0": "Jeffery Chen",
                  "1": "jeffery2@adventure-works.com"
                },
                {
                  "0": "Erica Wang",
                  "1": "erica1@adventure-works.com"
                },
                {
                  "0": "Margaret Guo",
                  "1": "margaret24@adventure-works.com"
                },
                {
                  "0": "Richard Baker",
                  "1": "richard27@adventure-works.com"
                },
                {
                  "0": "Julio Romero",
                  "1": "julio9@adventure-works.com"
                },
                {
                  "0": "Jack Phillips",
                  "1": "jack41@adventure-works.com"
                },
                {
                  "0": "Max Ortega",
                  "1": "max20@adventure-works.com"
                },
                {
                  "0": "Hailey Perez",
                  "1": "hailey53@adventure-works.com"
                },
                {
                  "0": "Joy Dominguez",
                  "1": "joy14@adventure-works.com"
                },
                {
                  "0": "Yvonne Schleger",
                  "1": "yvonne2@adventure-works.com"
                },
                {
                  "0": "Barry Sai",
                  "1": "barry6@adventure-works.com"
                },
                {
                  "0": "Mario Moyer",
                  "1": "mario15@adventure-works.com"
                },
                {
                  "0": "Sara Murphy",
                  "1": "sara16@adventure-works.com"
                },
                {
                  "0": "Erik Rubio",
                  "1": "erik21@adventure-works.com"
                },
                {
                  "0": "Bradley Carson",
                  "1": "bradley18@adventure-works.com"
                },
                {
                  "0": "Lindsey Luo",
                  "1": "lindsey6@adventure-works.com"
                },
                {
                  "0": "Ricardo Raje",
                  "1": "ricardo14@adventure-works.com"
                },
                {
                  "0": "Susan Zhou",
                  "1": "susan18@adventure-works.com"
                },
                {
                  "0": "Theodore Ramos",
                  "1": "theodore18@adventure-works.com"
                },
                {
                  "0": "Randy Yang",
                  "1": "randy6@adventure-works.com"
                },
                {
                  "0": "Leslie Navarro",
                  "1": "leslie11@adventure-works.com"
                },
                {
                  "0": "Karla Chander",
                  "1": "karla17@adventure-works.com"
                },
                {
                  "0": "Colleen Zhao",
                  "1": "colleen10@adventure-works.com"
                },
                {
                  "0": "Karen Cai",
                  "1": "karen30@adventure-works.com"
                },
                {
                  "0": "Jasmine Thomas",
                  "1": "jasmine9@adventure-works.com"
                },
                {
                  "0": "Cara Xu",
                  "1": "cara8@adventure-works.com"
                },
                {
                  "0": "Marie Jimenez",
                  "1": "marie29@adventure-works.com"
                },
                {
                  "0": "Rafael Xu",
                  "1": "rafael28@adventure-works.com"
                },
                {
                  "0": "Kristine Gomez",
                  "1": "kristine2@adventure-works.com"
                },
                {
                  "0": "Logan Li",
                  "1": "logan26@adventure-works.com"
                },
                {
                  "0": "Jessica Bell",
                  "1": "jessica7@adventure-works.com"
                },
                {
                  "0": "Hailey Russell",
                  "1": "hailey40@adventure-works.com"
                },
                {
                  "0": "Jeffery Li",
                  "1": "jeffery3@adventure-works.com"
                },
                {
                  "0": "Jay Browning",
                  "1": "jay45@adventure-works.com"
                },
                {
                  "0": "Nelson Hernandez",
                  "1": "nelson4@adventure-works.com"
                },
                {
                  "0": "Alexander Walker",
                  "1": "alexander10@adventure-works.com"
                },
                {
                  "0": "Logan Lee",
                  "1": "logan54@adventure-works.com"
                },
                {
                  "0": "Diana Navarro",
                  "1": "diana9@adventure-works.com"
                },
                {
                  "0": "Luis Carter",
                  "1": "luis43@adventure-works.com"
                },
                {
                  "0": "Candace Sanchez",
                  "1": "candace18@adventure-works.com"
                },
                {
                  "0": "Luke Campbell",
                  "1": "luke38@adventure-works.com"
                },
                {
                  "0": "Stacy Ruiz",
                  "1": "stacy3@adventure-works.com"
                },
                {
                  "0": "Jerome Torres",
                  "1": "jerome10@adventure-works.com"
                },
                {
                  "0": "Adam Jai",
                  "1": "adam28@adventure-works.com"
                },
                {
                  "0": "Dennis Yang",
                  "1": "dennis6@adventure-works.com"
                },
                {
                  "0": "Tamara Yuan",
                  "1": "tamara18@adventure-works.com"
                },
                {
                  "0": "Andre Patel",
                  "1": "andre3@adventure-works.com"
                },
                {
                  "0": "Eddie Navarro",
                  "1": "eddie10@adventure-works.com"
                },
                {
                  "0": "Andrew Robinson",
                  "1": "andrew25@adventure-works.com"
                },
                {
                  "0": "Blake Mitchell",
                  "1": "blake38@adventure-works.com"
                },
                {
                  "0": "Colleen Huang",
                  "1": "colleen6@adventure-works.com"
                },
                {
                  "0": "Tabitha Torres",
                  "1": "tabitha32@adventure-works.com"
                },
                {
                  "0": "Jerry Luo",
                  "1": "jerry6@adventure-works.com"
                },
                {
                  "0": "Shaun Shan",
                  "1": "shaun11@adventure-works.com"
                },
                {
                  "0": "Vanessa Ross",
                  "1": "vanessa4@adventure-works.com"
                },
                {
                  "0": "Julian Wood",
                  "1": "julian3@adventure-works.com"
                },
                {
                  "0": "Carrie Alonso",
                  "1": "carrie8@adventure-works.com"
                },
                {
                  "0": "Wyatt Barnes",
                  "1": "wyatt54@adventure-works.com"
                },
                {
                  "0": "Keith Deng",
                  "1": "keith3@adventure-works.com"
                },
                {
                  "0": "Ruth Raman",
                  "1": "ruth16@adventure-works.com"
                },
                {
                  "0": "Marshall Chen",
                  "1": "marshall1@adventure-works.com"
                },
                {
                  "0": "Damien Liu",
                  "1": "damien3@adventure-works.com"
                },
                {
                  "0": "Whitney Patel",
                  "1": "whitney3@adventure-works.com"
                },
                {
                  "0": "Margaret Xu",
                  "1": "margaret18@adventure-works.com"
                },
                {
                  "0": "Robin Vazquez",
                  "1": "robin11@adventure-works.com"
                },
                {
                  "0": "Alejandro Raji",
                  "1": "alejandro46@adventure-works.com"
                },
                {
                  "0": "Candace Arun",
                  "1": "candace6@adventure-works.com"
                },
                {
                  "0": "Alexandria Gray",
                  "1": "alexandria29@adventure-works.com"
                },
                {
                  "0": "Jason Li",
                  "1": "jason24@adventure-works.com"
                },
                {
                  "0": "Melvin Rai",
                  "1": "melvin16@adventure-works.com"
                },
                {
                  "0": "Eduardo Robinson",
                  "1": "eduardo17@adventure-works.com"
                },
                {
                  "0": "Rebekah Moreno",
                  "1": "rebekah26@adventure-works.com"
                },
                {
                  "0": "Randy Huang",
                  "1": "randy7@adventure-works.com"
                },
                {
                  "0": "Kelly Flores",
                  "1": "kelly17@adventure-works.com"
                },
                {
                  "0": "Mario Pal",
                  "1": "mario10@adventure-works.com"
                },
                {
                  "0": "Daniel Harris",
                  "1": "daniel10@adventure-works.com"
                },
                {
                  "0": "Joe Alonso",
                  "1": "joe31@adventure-works.com"
                },
                {
                  "0": "Carlos Evans",
                  "1": "carlos26@adventure-works.com"
                },
                {
                  "0": "Margaret Zheng",
                  "1": "margaret26@adventure-works.com"
                },
                {
                  "0": "Linda Moreno",
                  "1": "linda21@adventure-works.com"
                },
                {
                  "0": "Jaime Diaz",
                  "1": "jaime3@adventure-works.com"
                },
                {
                  "0": "Blake Nelson",
                  "1": "blake36@adventure-works.com"
                },
                {
                  "0": "Raul Nara",
                  "1": "raul14@adventure-works.com"
                },
                {
                  "0": "Ronnie He",
                  "1": "ronnie16@adventure-works.com"
                },
                {
                  "0": "Madeline Hall",
                  "1": "madeline20@adventure-works.com"
                },
                {
                  "0": "Alexis Long",
                  "1": "alexis32@adventure-works.com"
                },
                {
                  "0": "Marc Vazquez",
                  "1": "marc18@adventure-works.com"
                },
                {
                  "0": "Corey Anand",
                  "1": "corey19@adventure-works.com"
                },
                {
                  "0": "Desiree Rubio",
                  "1": "desiree17@adventure-works.com"
                },
                {
                  "0": "Clinton Alvarez",
                  "1": "clinton1@adventure-works.com"
                },
                {
                  "0": "Gilbert Gao",
                  "1": "gilbert12@adventure-works.com"
                },
                {
                  "0": "Chloe Bryant",
                  "1": "chloe83@adventure-works.com"
                },
                {
                  "0": "Stanley Subram",
                  "1": "stanley14@adventure-works.com"
                },
                {
                  "0": "Olivia Garcia",
                  "1": "olivia15@adventure-works.com"
                },
                {
                  "0": "Lacey Gao",
                  "1": "lacey27@adventure-works.com"
                },
                {
                  "0": "Kelvin Shen",
                  "1": "kelvin44@adventure-works.com"
                },
                {
                  "0": "Brandy Fernandez",
                  "1": "brandy12@adventure-works.com"
                },
                {
                  "0": "Destiny Murphy",
                  "1": "destiny31@adventure-works.com"
                },
                {
                  "0": "Ricardo Sharma",
                  "1": "ricardo9@adventure-works.com"
                },
                {
                  "0": "Carolyn Diaz",
                  "1": "carolyn25@adventure-works.com"
                },
                {
                  "0": "Brianna Gray",
                  "1": "brianna42@adventure-works.com"
                },
                {
                  "0": "Robert Hill",
                  "1": "robert54@adventure-works.com"
                },
                {
                  "0": "Brandon Rodriguez",
                  "1": "brandon50@adventure-works.com"
                },
                {
                  "0": "Dawn Nara",
                  "1": "dawn41@adventure-works.com"
                },
                {
                  "0": "Rebecca Adams",
                  "1": "rebecca17@adventure-works.com"
                },
                {
                  "0": "Lindsey Lal",
                  "1": "lindsey9@adventure-works.com"
                },
                {
                  "0": "Jocelyn Price",
                  "1": "jocelyn0@adventure-works.com"
                }
              ],
              "schema": [
                {
                  "key": "0",
                  "name": "CustomerName",
                  "type": "string"
                },
                {
                  "key": "1",
                  "name": "Email",
                  "type": "string"
                }
              ],
              "truncated": false
            },
            "isSummary": false,
            "language": "scala"
          },
          "persist_state": {
            "view": {
              "type": "details",
              "tableOptions": {},
              "chartOptions": {
                "chartType": "bar",
                "aggregationType": "count",
                "categoryFieldKeys": [
                  "0"
                ],
                "seriesFieldKeys": [
                  "0"
                ],
                "isStacked": false
              }
            }
          }
        },
        "ff5f761c-cbba-44e4-bfe8-f24510bae753": {
          "type": "Synapse.DataFrame",
          "sync_state": {
            "table": {
              "rows": [
                {
                  "0": "Mountain-200 Black, 42",
                  "1": "388"
                },
                {
                  "0": "Touring-1000 Yellow, 46",
                  "1": "74"
                },
                {
                  "0": "Touring-1000 Blue, 54",
                  "1": "67"
                },
                {
                  "0": "Short-Sleeve Classic Jersey, S",
                  "1": "216"
                },
                {
                  "0": "Women's Mountain Shorts, S",
                  "1": "146"
                },
                {
                  "0": "Long-Sleeve Logo Jersey, L",
                  "1": "234"
                },
                {
                  "0": "Mountain-400-W Silver, 42",
                  "1": "59"
                },
                {
                  "0": "Racing Socks, M",
                  "1": "165"
                },
                {
                  "0": "Mountain-100 Silver, 42",
                  "1": "42"
                },
                {
                  "0": "Mountain-200 Silver, 42",
                  "1": "359"
                },
                {
                  "0": "Road-750 Black, 58",
                  "1": "170"
                },
                {
                  "0": "Half-Finger Gloves, L",
                  "1": "209"
                },
                {
                  "0": "Road-350-W Yellow, 44",
                  "1": "81"
                },
                {
                  "0": "Mountain-400-W Silver, 38",
                  "1": "68"
                },
                {
                  "0": "Mountain-100 Silver, 44",
                  "1": "49"
                },
                {
                  "0": "Mountain Bottle Cage",
                  "1": "1000"
                },
                {
                  "0": "Touring-1000 Blue, 46",
                  "1": "75"
                },
                {
                  "0": "Mountain-500 Silver, 42",
                  "1": "22"
                },
                {
                  "0": "HL Mountain Tire",
                  "1": "702"
                },
                {
                  "0": "Mountain-400-W Silver, 40",
                  "1": "61"
                },
                {
                  "0": "Bike Wash - Dissolver",
                  "1": "473"
                },
                {
                  "0": "Road-550-W Yellow, 40",
                  "1": "156"
                },
                {
                  "0": "Short-Sleeve Classic Jersey, XL",
                  "1": "185"
                },
                {
                  "0": "Mountain-500 Black, 52",
                  "1": "16"
                },
                {
                  "0": "Mountain-100 Silver, 38",
                  "1": "58"
                },
                {
                  "0": "Road-250 Red, 48",
                  "1": "162"
                },
                {
                  "0": "Mountain-400-W Silver, 46",
                  "1": "62"
                },
                {
                  "0": "Touring-3000 Blue, 50",
                  "1": "30"
                },
                {
                  "0": "Road-250 Red, 52",
                  "1": "133"
                },
                {
                  "0": "Water Bottle - 30 oz.",
                  "1": "2097"
                },
                {
                  "0": "Road-650 Red, 52",
                  "1": "61"
                },
                {
                  "0": "Road-250 Black, 52",
                  "1": "276"
                },
                {
                  "0": "Touring-3000 Blue, 44",
                  "1": "31"
                },
                {
                  "0": "Mountain-500 Silver, 52",
                  "1": "27"
                },
                {
                  "0": "Touring Tire",
                  "1": "437"
                },
                {
                  "0": "Classic Vest, L",
                  "1": "84"
                },
                {
                  "0": "Road-550-W Yellow, 48",
                  "1": "158"
                },
                {
                  "0": "AWC Logo Cap",
                  "1": "1063"
                },
                {
                  "0": "Touring-2000 Blue, 60",
                  "1": "40"
                },
                {
                  "0": "Patch Kit/8 Patches",
                  "1": "1621"
                },
                {
                  "0": "Mountain-500 Black, 42",
                  "1": "26"
                },
                {
                  "0": "ML Mountain Tire",
                  "1": "608"
                },
                {
                  "0": "HL Road Tire",
                  "1": "470"
                },
                {
                  "0": "Touring Tire Tube",
                  "1": "708"
                },
                {
                  "0": "Mountain-500 Silver, 44",
                  "1": "19"
                },
                {
                  "0": "Road-350-W Yellow, 48",
                  "1": "98"
                },
                {
                  "0": "Mountain-100 Black, 44",
                  "1": "60"
                },
                {
                  "0": "Half-Finger Gloves, M",
                  "1": "231"
                },
                {
                  "0": "Short-Sleeve Classic Jersey, L",
                  "1": "193"
                },
                {
                  "0": "Women's Mountain Shorts, L",
                  "1": "182"
                },
                {
                  "0": "Mountain-100 Black, 38",
                  "1": "49"
                },
                {
                  "0": "Road-650 Black, 60",
                  "1": "76"
                },
                {
                  "0": "Women's Mountain Shorts, M",
                  "1": "186"
                },
                {
                  "0": "Touring-3000 Blue, 58",
                  "1": "30"
                },
                {
                  "0": "Road-150 Red, 62",
                  "1": "336"
                },
                {
                  "0": "ML Road Tire",
                  "1": "460"
                },
                {
                  "0": "Touring-3000 Blue, 62",
                  "1": "24"
                },
                {
                  "0": "Road-650 Red, 48",
                  "1": "88"
                },
                {
                  "0": "Road-650 Black, 44",
                  "1": "63"
                },
                {
                  "0": "Road-250 Black, 44",
                  "1": "223"
                },
                {
                  "0": "All-Purpose Bike Stand",
                  "1": "135"
                },
                {
                  "0": "Touring-2000 Blue, 54",
                  "1": "44"
                },
                {
                  "0": "Half-Finger Gloves, S",
                  "1": "258"
                },
                {
                  "0": "Road-250 Red, 58",
                  "1": "256"
                },
                {
                  "0": "Road-150 Red, 44",
                  "1": "281"
                },
                {
                  "0": "Mountain-500 Black, 48",
                  "1": "22"
                },
                {
                  "0": "Classic Vest, M",
                  "1": "92"
                },
                {
                  "0": "Mountain-200 Silver, 38",
                  "1": "370"
                },
                {
                  "0": "Long-Sleeve Logo Jersey, M",
                  "1": "202"
                },
                {
                  "0": "Road-350-W Yellow, 40",
                  "1": "110"
                },
                {
                  "0": "Road-650 Red, 58",
                  "1": "74"
                },
                {
                  "0": "Long-Sleeve Logo Jersey, S",
                  "1": "186"
                },
                {
                  "0": "Sport-100 Helmet, Blue",
                  "1": "1015"
                },
                {
                  "0": "Touring-1000 Blue, 50",
                  "1": "73"
                },
                {
                  "0": "Road-250 Red, 44",
                  "1": "144"
                },
                {
                  "0": "Road-650 Black, 62",
                  "1": "65"
                },
                {
                  "0": "Road-250 Black, 58",
                  "1": "226"
                },
                {
                  "0": "Racing Socks, L",
                  "1": "135"
                },
                {
                  "0": "Touring-3000 Yellow, 58",
                  "1": "21"
                },
                {
                  "0": "Road-550-W Yellow, 44",
                  "1": "183"
                },
                {
                  "0": "Sport-100 Helmet, Black",
                  "1": "1041"
                },
                {
                  "0": "Touring-1000 Blue, 60",
                  "1": "66"
                },
                {
                  "0": "Touring-3000 Yellow, 62",
                  "1": "22"
                },
                {
                  "0": "Mountain-200 Black, 38",
                  "1": "366"
                },
                {
                  "0": "Mountain-200 Silver, 46",
                  "1": "371"
                },
                {
                  "0": "LL Mountain Tire",
                  "1": "429"
                },
                {
                  "0": "Mountain-500 Black, 44",
                  "1": "31"
                },
                {
                  "0": "Road Bottle Cage",
                  "1": "848"
                },
                {
                  "0": "Touring-1000 Yellow, 60",
                  "1": "67"
                },
                {
                  "0": "Road-650 Red, 60",
                  "1": "53"
                },
                {
                  "0": "Touring-3000 Blue, 54",
                  "1": "28"
                },
                {
                  "0": "Touring-3000 Yellow, 54",
                  "1": "26"
                },
                {
                  "0": "Road-650 Black, 48",
                  "1": "60"
                },
                {
                  "0": "Road-650 Red, 62",
                  "1": "75"
                },
                {
                  "0": "Road-650 Black, 52",
                  "1": "89"
                },
                {
                  "0": "Mountain-100 Black, 48",
                  "1": "57"
                },
                {
                  "0": "Touring-2000 Blue, 50",
                  "1": "50"
                },
                {
                  "0": "Short-Sleeve Classic Jersey, M",
                  "1": "220"
                },
                {
                  "0": "Touring-1000 Yellow, 50",
                  "1": "70"
                },
                {
                  "0": "Road-150 Red, 48",
                  "1": "337"
                },
                {
                  "0": "Road-750 Black, 48",
                  "1": "182"
                },
                {
                  "0": "Touring-2000 Blue, 46",
                  "1": "55"
                },
                {
                  "0": "Mountain-500 Silver, 48",
                  "1": "27"
                },
                {
                  "0": "Classic Vest, S",
                  "1": "80"
                },
                {
                  "0": "LL Road Tire",
                  "1": "522"
                },
                {
                  "0": "Road-750 Black, 52",
                  "1": "181"
                },
                {
                  "0": "Road-150 Red, 52",
                  "1": "302"
                },
                {
                  "0": "Mountain Tire Tube",
                  "1": "1581"
                },
                {
                  "0": "Touring-1000 Yellow, 54",
                  "1": "66"
                },
                {
                  "0": "Touring-3000 Yellow, 44",
                  "1": "24"
                },
                {
                  "0": "Road-150 Red, 56",
                  "1": "295"
                },
                {
                  "0": "Road-650 Black, 58",
                  "1": "76"
                },
                {
                  "0": "Road-350-W Yellow, 42",
                  "1": "96"
                },
                {
                  "0": "Mountain-500 Silver, 40",
                  "1": "16"
                },
                {
                  "0": "Road-550-W Yellow, 42",
                  "1": "180"
                },
                {
                  "0": "Mountain-200 Black, 46",
                  "1": "425"
                },
                {
                  "0": "Road-750 Black, 44",
                  "1": "181"
                },
                {
                  "0": "Mountain-500 Black, 40",
                  "1": "28"
                },
                {
                  "0": "Fender Set - Mountain",
                  "1": "1081"
                },
                {
                  "0": "Road-650 Red, 44",
                  "1": "72"
                },
                {
                  "0": "Touring-3000 Yellow, 50",
                  "1": "27"
                },
                {
                  "0": "Road-550-W Yellow, 38",
                  "1": "171"
                },
                {
                  "0": "Road Tire Tube",
                  "1": "1212"
                },
                {
                  "0": "Sport-100 Helmet, Red",
                  "1": "1096"
                },
                {
                  "0": "Mountain-100 Silver, 48",
                  "1": "36"
                },
                {
                  "0": "Hydration Pack - 70 oz.",
                  "1": "364"
                },
                {
                  "0": "Road-250 Black, 48",
                  "1": "240"
                },
                {
                  "0": "Mountain-100 Black, 42",
                  "1": "45"
                },
                {
                  "0": "Hitch Rack - 4-Bike",
                  "1": "155"
                },
                {
                  "0": "Long-Sleeve Logo Jersey, XL",
                  "1": "217"
                }
              ],
              "schema": [
                {
                  "key": "0",
                  "name": "Item",
                  "type": "string"
                },
                {
                  "key": "1",
                  "name": "sum(Quantity)",
                  "type": "bigint"
                }
              ],
              "truncated": false
            },
            "isSummary": false,
            "language": "scala"
          },
          "persist_state": {
            "view": {
              "type": "details",
              "tableOptions": {},
              "chartOptions": {
                "chartType": "bar",
                "aggregationType": "sum",
                "categoryFieldKeys": [
                  "0"
                ],
                "seriesFieldKeys": [
                  "1"
                ],
                "isStacked": false
              }
            }
          }
        },
        "850bc399-3539-430e-bf47-4eb853b64313": {
          "type": "Synapse.DataFrame",
          "sync_state": {
            "table": {
              "rows": [
                {
                  "0": "2019",
                  "1": "1201"
                },
                {
                  "0": "2020",
                  "1": "2733"
                },
                {
                  "0": "2021",
                  "1": "28784"
                }
              ],
              "schema": [
                {
                  "key": "0",
                  "name": "Year",
                  "type": "int"
                },
                {
                  "key": "1",
                  "name": "count",
                  "type": "bigint"
                }
              ],
              "truncated": false
            },
            "isSummary": false,
            "language": "scala"
          },
          "persist_state": {
            "view": {
              "type": "details",
              "tableOptions": {},
              "chartOptions": {
                "chartType": "bar",
                "aggregationType": "sum",
                "categoryFieldKeys": [
                  "1"
                ],
                "seriesFieldKeys": [
                  "0"
                ],
                "isStacked": false
              }
            }
          }
        }
      }
    }
  },
  "nbformat": 4,
  "nbformat_minor": 2
}